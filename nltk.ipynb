{
  "nbformat": 4,
  "nbformat_minor": 0,
  "metadata": {
    "colab": {
      "provenance": [],
      "include_colab_link": true
    },
    "kernelspec": {
      "display_name": "Python 3",
      "name": "python3"
    },
    "language_info": {
      "name": "python"
    }
  },
  "cells": [
    {
      "cell_type": "markdown",
      "metadata": {
        "id": "view-in-github",
        "colab_type": "text"
      },
      "source": [
        "<a href=\"https://colab.research.google.com/github/monly98/Natural-language-processing-with-NLTK/blob/main/nltk.ipynb\" target=\"_parent\"><img src=\"https://colab.research.google.com/assets/colab-badge.svg\" alt=\"Open In Colab\"/></a>"
      ]
    },
    {
      "cell_type": "code",
      "metadata": {
        "colab": {
          "base_uri": "https://localhost:8080/"
        },
        "id": "g6mOSAyzAi_W",
        "outputId": "353c633d-4a78-4dcd-d348-4ec1651fc69c"
      },
      "source": [
        "import nltk\n",
        "nltk.download('punkt')"
      ],
      "execution_count": null,
      "outputs": [
        {
          "output_type": "stream",
          "name": "stdout",
          "text": [
            "[nltk_data] Downloading package punkt to /root/nltk_data...\n",
            "[nltk_data]   Unzipping tokenizers/punkt.zip.\n"
          ]
        },
        {
          "output_type": "execute_result",
          "data": {
            "text/plain": [
              "True"
            ]
          },
          "metadata": {},
          "execution_count": 2
        }
      ]
    },
    {
      "cell_type": "code",
      "metadata": {
        "colab": {
          "base_uri": "https://localhost:8080/"
        },
        "id": "D0dCSiHXA4hS",
        "outputId": "cdc8545e-c21f-4052-d396-c79986ded273"
      },
      "source": [
        "nltk.download('inaugural')\n",
        "nltk.download('stopwords')\n",
        "nltk.download('wordnet')\n",
        "nltk.download('averaged_perceptron_tagger')\n",
        "nltk.download('words')"
      ],
      "execution_count": null,
      "outputs": [
        {
          "output_type": "stream",
          "name": "stdout",
          "text": [
            "[nltk_data] Downloading package inaugural to /root/nltk_data...\n",
            "[nltk_data]   Unzipping corpora/inaugural.zip.\n",
            "[nltk_data] Downloading package stopwords to /root/nltk_data...\n",
            "[nltk_data]   Unzipping corpora/stopwords.zip.\n",
            "[nltk_data] Downloading package wordnet to /root/nltk_data...\n",
            "[nltk_data]   Unzipping corpora/wordnet.zip.\n",
            "[nltk_data] Downloading package averaged_perceptron_tagger to\n",
            "[nltk_data]     /root/nltk_data...\n",
            "[nltk_data]   Unzipping taggers/averaged_perceptron_tagger.zip.\n",
            "[nltk_data] Downloading package words to /root/nltk_data...\n",
            "[nltk_data]   Unzipping corpora/words.zip.\n"
          ]
        },
        {
          "output_type": "execute_result",
          "data": {
            "text/plain": [
              "True"
            ]
          },
          "metadata": {},
          "execution_count": 3
        }
      ]
    },
    {
      "cell_type": "code",
      "metadata": {
        "colab": {
          "base_uri": "https://localhost:8080/"
        },
        "id": "g7uVF122CURa",
        "outputId": "a09168d3-7d30-479a-f720-396e5cfd0956"
      },
      "source": [
        "from nltk.corpus import inaugural\n",
        "inaugural.fileids()[:5]"
      ],
      "execution_count": null,
      "outputs": [
        {
          "output_type": "execute_result",
          "data": {
            "text/plain": [
              "['1789-Washington.txt',\n",
              " '1793-Washington.txt',\n",
              " '1797-Adams.txt',\n",
              " '1801-Jefferson.txt',\n",
              " '1805-Jefferson.txt']"
            ]
          },
          "metadata": {},
          "execution_count": 4
        }
      ]
    },
    {
      "cell_type": "code",
      "metadata": {
        "colab": {
          "base_uri": "https://localhost:8080/"
        },
        "id": "sttmVDsWE51S",
        "outputId": "d7ddaf11-b874-41e2-88cc-182c8533eb63"
      },
      "source": [
        "len(inaugural.words())\n"
      ],
      "execution_count": null,
      "outputs": [
        {
          "output_type": "execute_result",
          "data": {
            "text/plain": [
              "149797"
            ]
          },
          "metadata": {},
          "execution_count": 5
        }
      ]
    },
    {
      "cell_type": "code",
      "metadata": {
        "colab": {
          "base_uri": "https://localhost:8080/"
        },
        "id": "ghBoSAcqFkK6",
        "outputId": "86642e20-c7a0-4141-c07d-f5e3d9e49472"
      },
      "source": [
        "inaugural.fileids()[:149797]"
      ],
      "execution_count": null,
      "outputs": [
        {
          "output_type": "execute_result",
          "data": {
            "text/plain": [
              "['1789-Washington.txt',\n",
              " '1793-Washington.txt',\n",
              " '1797-Adams.txt',\n",
              " '1801-Jefferson.txt',\n",
              " '1805-Jefferson.txt',\n",
              " '1809-Madison.txt',\n",
              " '1813-Madison.txt',\n",
              " '1817-Monroe.txt',\n",
              " '1821-Monroe.txt',\n",
              " '1825-Adams.txt',\n",
              " '1829-Jackson.txt',\n",
              " '1833-Jackson.txt',\n",
              " '1837-VanBuren.txt',\n",
              " '1841-Harrison.txt',\n",
              " '1845-Polk.txt',\n",
              " '1849-Taylor.txt',\n",
              " '1853-Pierce.txt',\n",
              " '1857-Buchanan.txt',\n",
              " '1861-Lincoln.txt',\n",
              " '1865-Lincoln.txt',\n",
              " '1869-Grant.txt',\n",
              " '1873-Grant.txt',\n",
              " '1877-Hayes.txt',\n",
              " '1881-Garfield.txt',\n",
              " '1885-Cleveland.txt',\n",
              " '1889-Harrison.txt',\n",
              " '1893-Cleveland.txt',\n",
              " '1897-McKinley.txt',\n",
              " '1901-McKinley.txt',\n",
              " '1905-Roosevelt.txt',\n",
              " '1909-Taft.txt',\n",
              " '1913-Wilson.txt',\n",
              " '1917-Wilson.txt',\n",
              " '1921-Harding.txt',\n",
              " '1925-Coolidge.txt',\n",
              " '1929-Hoover.txt',\n",
              " '1933-Roosevelt.txt',\n",
              " '1937-Roosevelt.txt',\n",
              " '1941-Roosevelt.txt',\n",
              " '1945-Roosevelt.txt',\n",
              " '1949-Truman.txt',\n",
              " '1953-Eisenhower.txt',\n",
              " '1957-Eisenhower.txt',\n",
              " '1961-Kennedy.txt',\n",
              " '1965-Johnson.txt',\n",
              " '1969-Nixon.txt',\n",
              " '1973-Nixon.txt',\n",
              " '1977-Carter.txt',\n",
              " '1981-Reagan.txt',\n",
              " '1985-Reagan.txt',\n",
              " '1989-Bush.txt',\n",
              " '1993-Clinton.txt',\n",
              " '1997-Clinton.txt',\n",
              " '2001-Bush.txt',\n",
              " '2005-Bush.txt',\n",
              " '2009-Obama.txt',\n",
              " '2013-Obama.txt',\n",
              " '2017-Trump.txt']"
            ]
          },
          "metadata": {},
          "execution_count": 6
        }
      ]
    },
    {
      "cell_type": "code",
      "metadata": {
        "colab": {
          "base_uri": "https://localhost:8080/"
        },
        "id": "OtevJ3ZSEdIT",
        "outputId": "2207c270-0432-47d7-88b9-f4f3d4a3939f"
      },
      "source": [
        "yrs=[fileid[:4] for fileid in inaugural.fileids()]\n",
        "print(yrs[-1])"
      ],
      "execution_count": null,
      "outputs": [
        {
          "output_type": "stream",
          "name": "stdout",
          "text": [
            "2017\n"
          ]
        }
      ]
    },
    {
      "cell_type": "code",
      "metadata": {
        "id": "5uxPML_aGS_J"
      },
      "source": [
        "washiington_raw= inaugural.raw('1789-Washington.txt')\n",
        "lincoln_raw=inaugural.raw('1861-Lincoln.txt')\n",
        "obama_raw=inaugural.raw('2009-Obama.txt')\n",
        "trum_raw=inaugural.raw('2017-Trump.txt')"
      ],
      "execution_count": null,
      "outputs": []
    },
    {
      "cell_type": "code",
      "metadata": {
        "colab": {
          "base_uri": "https://localhost:8080/"
        },
        "id": "O8tHfMPDIvja",
        "outputId": "07d53ac9-8f5d-48d2-f40f-e30dd49ae7e3"
      },
      "source": [
        "from nltk.tokenize import sent_tokenize, word_tokenize\n",
        "sent_tokenize(trum_raw)[:2]\n"
      ],
      "execution_count": null,
      "outputs": [
        {
          "output_type": "execute_result",
          "data": {
            "text/plain": [
              "['Chief Justice Roberts, President Carter, President Clinton, President Bush, President Obama, fellow Americans, and people of the world: Thank you.',\n",
              " 'We, the citizens of America, are now joined in a great national effort to rebuild our country and restore its promise for all of our people.']"
            ]
          },
          "metadata": {},
          "execution_count": 9
        }
      ]
    },
    {
      "cell_type": "code",
      "metadata": {
        "colab": {
          "base_uri": "https://localhost:8080/"
        },
        "id": "40MihR3BJZSS",
        "outputId": "16d6abbb-9218-4d0a-b166-0437631e7eea"
      },
      "source": [
        "word_tokenize(washiington_raw)[:]"
      ],
      "execution_count": null,
      "outputs": [
        {
          "output_type": "execute_result",
          "data": {
            "text/plain": [
              "['Fellow-Citizens',\n",
              " 'of',\n",
              " 'the',\n",
              " 'Senate',\n",
              " 'and',\n",
              " 'of',\n",
              " 'the',\n",
              " 'House',\n",
              " 'of',\n",
              " 'Representatives',\n",
              " ':',\n",
              " 'Among',\n",
              " 'the',\n",
              " 'vicissitudes',\n",
              " 'incident',\n",
              " 'to',\n",
              " 'life',\n",
              " 'no',\n",
              " 'event',\n",
              " 'could',\n",
              " 'have',\n",
              " 'filled',\n",
              " 'me',\n",
              " 'with',\n",
              " 'greater',\n",
              " 'anxieties',\n",
              " 'than',\n",
              " 'that',\n",
              " 'of',\n",
              " 'which',\n",
              " 'the',\n",
              " 'notification',\n",
              " 'was',\n",
              " 'transmitted',\n",
              " 'by',\n",
              " 'your',\n",
              " 'order',\n",
              " ',',\n",
              " 'and',\n",
              " 'received',\n",
              " 'on',\n",
              " 'the',\n",
              " '14th',\n",
              " 'day',\n",
              " 'of',\n",
              " 'the',\n",
              " 'present',\n",
              " 'month',\n",
              " '.',\n",
              " 'On',\n",
              " 'the',\n",
              " 'one',\n",
              " 'hand',\n",
              " ',',\n",
              " 'I',\n",
              " 'was',\n",
              " 'summoned',\n",
              " 'by',\n",
              " 'my',\n",
              " 'Country',\n",
              " ',',\n",
              " 'whose',\n",
              " 'voice',\n",
              " 'I',\n",
              " 'can',\n",
              " 'never',\n",
              " 'hear',\n",
              " 'but',\n",
              " 'with',\n",
              " 'veneration',\n",
              " 'and',\n",
              " 'love',\n",
              " ',',\n",
              " 'from',\n",
              " 'a',\n",
              " 'retreat',\n",
              " 'which',\n",
              " 'I',\n",
              " 'had',\n",
              " 'chosen',\n",
              " 'with',\n",
              " 'the',\n",
              " 'fondest',\n",
              " 'predilection',\n",
              " ',',\n",
              " 'and',\n",
              " ',',\n",
              " 'in',\n",
              " 'my',\n",
              " 'flattering',\n",
              " 'hopes',\n",
              " ',',\n",
              " 'with',\n",
              " 'an',\n",
              " 'immutable',\n",
              " 'decision',\n",
              " ',',\n",
              " 'as',\n",
              " 'the',\n",
              " 'asylum',\n",
              " 'of',\n",
              " 'my',\n",
              " 'declining',\n",
              " 'years',\n",
              " '--',\n",
              " 'a',\n",
              " 'retreat',\n",
              " 'which',\n",
              " 'was',\n",
              " 'rendered',\n",
              " 'every',\n",
              " 'day',\n",
              " 'more',\n",
              " 'necessary',\n",
              " 'as',\n",
              " 'well',\n",
              " 'as',\n",
              " 'more',\n",
              " 'dear',\n",
              " 'to',\n",
              " 'me',\n",
              " 'by',\n",
              " 'the',\n",
              " 'addition',\n",
              " 'of',\n",
              " 'habit',\n",
              " 'to',\n",
              " 'inclination',\n",
              " ',',\n",
              " 'and',\n",
              " 'of',\n",
              " 'frequent',\n",
              " 'interruptions',\n",
              " 'in',\n",
              " 'my',\n",
              " 'health',\n",
              " 'to',\n",
              " 'the',\n",
              " 'gradual',\n",
              " 'waste',\n",
              " 'committed',\n",
              " 'on',\n",
              " 'it',\n",
              " 'by',\n",
              " 'time',\n",
              " '.',\n",
              " 'On',\n",
              " 'the',\n",
              " 'other',\n",
              " 'hand',\n",
              " ',',\n",
              " 'the',\n",
              " 'magnitude',\n",
              " 'and',\n",
              " 'difficulty',\n",
              " 'of',\n",
              " 'the',\n",
              " 'trust',\n",
              " 'to',\n",
              " 'which',\n",
              " 'the',\n",
              " 'voice',\n",
              " 'of',\n",
              " 'my',\n",
              " 'country',\n",
              " 'called',\n",
              " 'me',\n",
              " ',',\n",
              " 'being',\n",
              " 'sufficient',\n",
              " 'to',\n",
              " 'awaken',\n",
              " 'in',\n",
              " 'the',\n",
              " 'wisest',\n",
              " 'and',\n",
              " 'most',\n",
              " 'experienced',\n",
              " 'of',\n",
              " 'her',\n",
              " 'citizens',\n",
              " 'a',\n",
              " 'distrustful',\n",
              " 'scrutiny',\n",
              " 'into',\n",
              " 'his',\n",
              " 'qualifications',\n",
              " ',',\n",
              " 'could',\n",
              " 'not',\n",
              " 'but',\n",
              " 'overwhelm',\n",
              " 'with',\n",
              " 'despondence',\n",
              " 'one',\n",
              " 'who',\n",
              " '(',\n",
              " 'inheriting',\n",
              " 'inferior',\n",
              " 'endowments',\n",
              " 'from',\n",
              " 'nature',\n",
              " 'and',\n",
              " 'unpracticed',\n",
              " 'in',\n",
              " 'the',\n",
              " 'duties',\n",
              " 'of',\n",
              " 'civil',\n",
              " 'administration',\n",
              " ')',\n",
              " 'ought',\n",
              " 'to',\n",
              " 'be',\n",
              " 'peculiarly',\n",
              " 'conscious',\n",
              " 'of',\n",
              " 'his',\n",
              " 'own',\n",
              " 'deficiencies',\n",
              " '.',\n",
              " 'In',\n",
              " 'this',\n",
              " 'conflict',\n",
              " 'of',\n",
              " 'emotions',\n",
              " 'all',\n",
              " 'I',\n",
              " 'dare',\n",
              " 'aver',\n",
              " 'is',\n",
              " 'that',\n",
              " 'it',\n",
              " 'has',\n",
              " 'been',\n",
              " 'my',\n",
              " 'faithful',\n",
              " 'study',\n",
              " 'to',\n",
              " 'collect',\n",
              " 'my',\n",
              " 'duty',\n",
              " 'from',\n",
              " 'a',\n",
              " 'just',\n",
              " 'appreciation',\n",
              " 'of',\n",
              " 'every',\n",
              " 'circumstance',\n",
              " 'by',\n",
              " 'which',\n",
              " 'it',\n",
              " 'might',\n",
              " 'be',\n",
              " 'affected',\n",
              " '.',\n",
              " 'All',\n",
              " 'I',\n",
              " 'dare',\n",
              " 'hope',\n",
              " 'is',\n",
              " 'that',\n",
              " 'if',\n",
              " ',',\n",
              " 'in',\n",
              " 'executing',\n",
              " 'this',\n",
              " 'task',\n",
              " ',',\n",
              " 'I',\n",
              " 'have',\n",
              " 'been',\n",
              " 'too',\n",
              " 'much',\n",
              " 'swayed',\n",
              " 'by',\n",
              " 'a',\n",
              " 'grateful',\n",
              " 'remembrance',\n",
              " 'of',\n",
              " 'former',\n",
              " 'instances',\n",
              " ',',\n",
              " 'or',\n",
              " 'by',\n",
              " 'an',\n",
              " 'affectionate',\n",
              " 'sensibility',\n",
              " 'to',\n",
              " 'this',\n",
              " 'transcendent',\n",
              " 'proof',\n",
              " 'of',\n",
              " 'the',\n",
              " 'confidence',\n",
              " 'of',\n",
              " 'my',\n",
              " 'fellow',\n",
              " 'citizens',\n",
              " ',',\n",
              " 'and',\n",
              " 'have',\n",
              " 'thence',\n",
              " 'too',\n",
              " 'little',\n",
              " 'consulted',\n",
              " 'my',\n",
              " 'incapacity',\n",
              " 'as',\n",
              " 'well',\n",
              " 'as',\n",
              " 'disinclination',\n",
              " 'for',\n",
              " 'the',\n",
              " 'weighty',\n",
              " 'and',\n",
              " 'untried',\n",
              " 'cares',\n",
              " 'before',\n",
              " 'me',\n",
              " ',',\n",
              " 'my',\n",
              " 'error',\n",
              " 'will',\n",
              " 'be',\n",
              " 'palliated',\n",
              " 'by',\n",
              " 'the',\n",
              " 'motives',\n",
              " 'which',\n",
              " 'mislead',\n",
              " 'me',\n",
              " ',',\n",
              " 'and',\n",
              " 'its',\n",
              " 'consequences',\n",
              " 'be',\n",
              " 'judged',\n",
              " 'by',\n",
              " 'my',\n",
              " 'country',\n",
              " 'with',\n",
              " 'some',\n",
              " 'share',\n",
              " 'of',\n",
              " 'the',\n",
              " 'partiality',\n",
              " 'in',\n",
              " 'which',\n",
              " 'they',\n",
              " 'originated',\n",
              " '.',\n",
              " 'Such',\n",
              " 'being',\n",
              " 'the',\n",
              " 'impressions',\n",
              " 'under',\n",
              " 'which',\n",
              " 'I',\n",
              " 'have',\n",
              " ',',\n",
              " 'in',\n",
              " 'obedience',\n",
              " 'to',\n",
              " 'the',\n",
              " 'public',\n",
              " 'summons',\n",
              " ',',\n",
              " 'repaired',\n",
              " 'to',\n",
              " 'the',\n",
              " 'present',\n",
              " 'station',\n",
              " ',',\n",
              " 'it',\n",
              " 'would',\n",
              " 'be',\n",
              " 'peculiarly',\n",
              " 'improper',\n",
              " 'to',\n",
              " 'omit',\n",
              " 'in',\n",
              " 'this',\n",
              " 'first',\n",
              " 'official',\n",
              " 'act',\n",
              " 'my',\n",
              " 'fervent',\n",
              " 'supplications',\n",
              " 'to',\n",
              " 'that',\n",
              " 'Almighty',\n",
              " 'Being',\n",
              " 'who',\n",
              " 'rules',\n",
              " 'over',\n",
              " 'the',\n",
              " 'universe',\n",
              " ',',\n",
              " 'who',\n",
              " 'presides',\n",
              " 'in',\n",
              " 'the',\n",
              " 'councils',\n",
              " 'of',\n",
              " 'nations',\n",
              " ',',\n",
              " 'and',\n",
              " 'whose',\n",
              " 'providential',\n",
              " 'aids',\n",
              " 'can',\n",
              " 'supply',\n",
              " 'every',\n",
              " 'human',\n",
              " 'defect',\n",
              " ',',\n",
              " 'that',\n",
              " 'His',\n",
              " 'benediction',\n",
              " 'may',\n",
              " 'consecrate',\n",
              " 'to',\n",
              " 'the',\n",
              " 'liberties',\n",
              " 'and',\n",
              " 'happiness',\n",
              " 'of',\n",
              " 'the',\n",
              " 'people',\n",
              " 'of',\n",
              " 'the',\n",
              " 'United',\n",
              " 'States',\n",
              " 'a',\n",
              " 'Government',\n",
              " 'instituted',\n",
              " 'by',\n",
              " 'themselves',\n",
              " 'for',\n",
              " 'these',\n",
              " 'essential',\n",
              " 'purposes',\n",
              " ',',\n",
              " 'and',\n",
              " 'may',\n",
              " 'enable',\n",
              " 'every',\n",
              " 'instrument',\n",
              " 'employed',\n",
              " 'in',\n",
              " 'its',\n",
              " 'administration',\n",
              " 'to',\n",
              " 'execute',\n",
              " 'with',\n",
              " 'success',\n",
              " 'the',\n",
              " 'functions',\n",
              " 'allotted',\n",
              " 'to',\n",
              " 'his',\n",
              " 'charge',\n",
              " '.',\n",
              " 'In',\n",
              " 'tendering',\n",
              " 'this',\n",
              " 'homage',\n",
              " 'to',\n",
              " 'the',\n",
              " 'Great',\n",
              " 'Author',\n",
              " 'of',\n",
              " 'every',\n",
              " 'public',\n",
              " 'and',\n",
              " 'private',\n",
              " 'good',\n",
              " ',',\n",
              " 'I',\n",
              " 'assure',\n",
              " 'myself',\n",
              " 'that',\n",
              " 'it',\n",
              " 'expresses',\n",
              " 'your',\n",
              " 'sentiments',\n",
              " 'not',\n",
              " 'less',\n",
              " 'than',\n",
              " 'my',\n",
              " 'own',\n",
              " ',',\n",
              " 'nor',\n",
              " 'those',\n",
              " 'of',\n",
              " 'my',\n",
              " 'fellow',\n",
              " 'citizens',\n",
              " 'at',\n",
              " 'large',\n",
              " 'less',\n",
              " 'than',\n",
              " 'either',\n",
              " '.',\n",
              " 'No',\n",
              " 'people',\n",
              " 'can',\n",
              " 'be',\n",
              " 'bound',\n",
              " 'to',\n",
              " 'acknowledge',\n",
              " 'and',\n",
              " 'adore',\n",
              " 'the',\n",
              " 'Invisible',\n",
              " 'Hand',\n",
              " 'which',\n",
              " 'conducts',\n",
              " 'the',\n",
              " 'affairs',\n",
              " 'of',\n",
              " 'men',\n",
              " 'more',\n",
              " 'than',\n",
              " 'those',\n",
              " 'of',\n",
              " 'the',\n",
              " 'United',\n",
              " 'States',\n",
              " '.',\n",
              " 'Every',\n",
              " 'step',\n",
              " 'by',\n",
              " 'which',\n",
              " 'they',\n",
              " 'have',\n",
              " 'advanced',\n",
              " 'to',\n",
              " 'the',\n",
              " 'character',\n",
              " 'of',\n",
              " 'an',\n",
              " 'independent',\n",
              " 'nation',\n",
              " 'seems',\n",
              " 'to',\n",
              " 'have',\n",
              " 'been',\n",
              " 'distinguished',\n",
              " 'by',\n",
              " 'some',\n",
              " 'token',\n",
              " 'of',\n",
              " 'providential',\n",
              " 'agency',\n",
              " ';',\n",
              " 'and',\n",
              " 'in',\n",
              " 'the',\n",
              " 'important',\n",
              " 'revolution',\n",
              " 'just',\n",
              " 'accomplished',\n",
              " 'in',\n",
              " 'the',\n",
              " 'system',\n",
              " 'of',\n",
              " 'their',\n",
              " 'united',\n",
              " 'government',\n",
              " 'the',\n",
              " 'tranquil',\n",
              " 'deliberations',\n",
              " 'and',\n",
              " 'voluntary',\n",
              " 'consent',\n",
              " 'of',\n",
              " 'so',\n",
              " 'many',\n",
              " 'distinct',\n",
              " 'communities',\n",
              " 'from',\n",
              " 'which',\n",
              " 'the',\n",
              " 'event',\n",
              " 'has',\n",
              " 'resulted',\n",
              " 'can',\n",
              " 'not',\n",
              " 'be',\n",
              " 'compared',\n",
              " 'with',\n",
              " 'the',\n",
              " 'means',\n",
              " 'by',\n",
              " 'which',\n",
              " 'most',\n",
              " 'governments',\n",
              " 'have',\n",
              " 'been',\n",
              " 'established',\n",
              " 'without',\n",
              " 'some',\n",
              " 'return',\n",
              " 'of',\n",
              " 'pious',\n",
              " 'gratitude',\n",
              " ',',\n",
              " 'along',\n",
              " 'with',\n",
              " 'an',\n",
              " 'humble',\n",
              " 'anticipation',\n",
              " 'of',\n",
              " 'the',\n",
              " 'future',\n",
              " 'blessings',\n",
              " 'which',\n",
              " 'the',\n",
              " 'past',\n",
              " 'seem',\n",
              " 'to',\n",
              " 'presage',\n",
              " '.',\n",
              " 'These',\n",
              " 'reflections',\n",
              " ',',\n",
              " 'arising',\n",
              " 'out',\n",
              " 'of',\n",
              " 'the',\n",
              " 'present',\n",
              " 'crisis',\n",
              " ',',\n",
              " 'have',\n",
              " 'forced',\n",
              " 'themselves',\n",
              " 'too',\n",
              " 'strongly',\n",
              " 'on',\n",
              " 'my',\n",
              " 'mind',\n",
              " 'to',\n",
              " 'be',\n",
              " 'suppressed',\n",
              " '.',\n",
              " 'You',\n",
              " 'will',\n",
              " 'join',\n",
              " 'with',\n",
              " 'me',\n",
              " ',',\n",
              " 'I',\n",
              " 'trust',\n",
              " ',',\n",
              " 'in',\n",
              " 'thinking',\n",
              " 'that',\n",
              " 'there',\n",
              " 'are',\n",
              " 'none',\n",
              " 'under',\n",
              " 'the',\n",
              " 'influence',\n",
              " 'of',\n",
              " 'which',\n",
              " 'the',\n",
              " 'proceedings',\n",
              " 'of',\n",
              " 'a',\n",
              " 'new',\n",
              " 'and',\n",
              " 'free',\n",
              " 'government',\n",
              " 'can',\n",
              " 'more',\n",
              " 'auspiciously',\n",
              " 'commence',\n",
              " '.',\n",
              " 'By',\n",
              " 'the',\n",
              " 'article',\n",
              " 'establishing',\n",
              " 'the',\n",
              " 'executive',\n",
              " 'department',\n",
              " 'it',\n",
              " 'is',\n",
              " 'made',\n",
              " 'the',\n",
              " 'duty',\n",
              " 'of',\n",
              " 'the',\n",
              " 'President',\n",
              " '``',\n",
              " 'to',\n",
              " 'recommend',\n",
              " 'to',\n",
              " 'your',\n",
              " 'consideration',\n",
              " 'such',\n",
              " 'measures',\n",
              " 'as',\n",
              " 'he',\n",
              " 'shall',\n",
              " 'judge',\n",
              " 'necessary',\n",
              " 'and',\n",
              " 'expedient',\n",
              " '.',\n",
              " \"''\",\n",
              " 'The',\n",
              " 'circumstances',\n",
              " 'under',\n",
              " 'which',\n",
              " 'I',\n",
              " 'now',\n",
              " 'meet',\n",
              " 'you',\n",
              " 'will',\n",
              " 'acquit',\n",
              " 'me',\n",
              " 'from',\n",
              " 'entering',\n",
              " 'into',\n",
              " 'that',\n",
              " 'subject',\n",
              " 'further',\n",
              " 'than',\n",
              " 'to',\n",
              " 'refer',\n",
              " 'to',\n",
              " 'the',\n",
              " 'great',\n",
              " 'constitutional',\n",
              " 'charter',\n",
              " 'under',\n",
              " 'which',\n",
              " 'you',\n",
              " 'are',\n",
              " 'assembled',\n",
              " ',',\n",
              " 'and',\n",
              " 'which',\n",
              " ',',\n",
              " 'in',\n",
              " 'defining',\n",
              " 'your',\n",
              " 'powers',\n",
              " ',',\n",
              " 'designates',\n",
              " 'the',\n",
              " 'objects',\n",
              " 'to',\n",
              " 'which',\n",
              " 'your',\n",
              " 'attention',\n",
              " 'is',\n",
              " 'to',\n",
              " 'be',\n",
              " 'given',\n",
              " '.',\n",
              " 'It',\n",
              " 'will',\n",
              " 'be',\n",
              " 'more',\n",
              " 'consistent',\n",
              " 'with',\n",
              " 'those',\n",
              " 'circumstances',\n",
              " ',',\n",
              " 'and',\n",
              " 'far',\n",
              " 'more',\n",
              " 'congenial',\n",
              " 'with',\n",
              " 'the',\n",
              " 'feelings',\n",
              " 'which',\n",
              " 'actuate',\n",
              " 'me',\n",
              " ',',\n",
              " 'to',\n",
              " 'substitute',\n",
              " ',',\n",
              " 'in',\n",
              " 'place',\n",
              " 'of',\n",
              " 'a',\n",
              " 'recommendation',\n",
              " 'of',\n",
              " 'particular',\n",
              " 'measures',\n",
              " ',',\n",
              " 'the',\n",
              " 'tribute',\n",
              " 'that',\n",
              " 'is',\n",
              " 'due',\n",
              " 'to',\n",
              " 'the',\n",
              " 'talents',\n",
              " ',',\n",
              " 'the',\n",
              " 'rectitude',\n",
              " ',',\n",
              " 'and',\n",
              " 'the',\n",
              " 'patriotism',\n",
              " 'which',\n",
              " 'adorn',\n",
              " 'the',\n",
              " 'characters',\n",
              " 'selected',\n",
              " 'to',\n",
              " 'devise',\n",
              " 'and',\n",
              " 'adopt',\n",
              " 'them',\n",
              " '.',\n",
              " 'In',\n",
              " 'these',\n",
              " 'honorable',\n",
              " 'qualifications',\n",
              " 'I',\n",
              " 'behold',\n",
              " 'the',\n",
              " 'surest',\n",
              " 'pledges',\n",
              " 'that',\n",
              " 'as',\n",
              " 'on',\n",
              " 'one',\n",
              " 'side',\n",
              " 'no',\n",
              " 'local',\n",
              " 'prejudices',\n",
              " 'or',\n",
              " 'attachments',\n",
              " ',',\n",
              " 'no',\n",
              " 'separate',\n",
              " 'views',\n",
              " 'nor',\n",
              " 'party',\n",
              " 'animosities',\n",
              " ',',\n",
              " 'will',\n",
              " 'misdirect',\n",
              " 'the',\n",
              " 'comprehensive',\n",
              " 'and',\n",
              " 'equal',\n",
              " 'eye',\n",
              " 'which',\n",
              " 'ought',\n",
              " 'to',\n",
              " 'watch',\n",
              " 'over',\n",
              " 'this',\n",
              " 'great',\n",
              " 'assemblage',\n",
              " 'of',\n",
              " 'communities',\n",
              " 'and',\n",
              " 'interests',\n",
              " ',',\n",
              " 'so',\n",
              " ',',\n",
              " 'on',\n",
              " 'another',\n",
              " ',',\n",
              " 'that',\n",
              " 'the',\n",
              " 'foundation',\n",
              " 'of',\n",
              " 'our',\n",
              " 'national',\n",
              " 'policy',\n",
              " 'will',\n",
              " 'be',\n",
              " 'laid',\n",
              " 'in',\n",
              " 'the',\n",
              " 'pure',\n",
              " 'and',\n",
              " 'immutable',\n",
              " 'principles',\n",
              " 'of',\n",
              " 'private',\n",
              " 'morality',\n",
              " ',',\n",
              " 'and',\n",
              " 'the',\n",
              " 'preeminence',\n",
              " 'of',\n",
              " 'free',\n",
              " 'government',\n",
              " 'be',\n",
              " 'exemplified',\n",
              " 'by',\n",
              " 'all',\n",
              " 'the',\n",
              " 'attributes',\n",
              " 'which',\n",
              " 'can',\n",
              " 'win',\n",
              " 'the',\n",
              " 'affections',\n",
              " 'of',\n",
              " 'its',\n",
              " 'citizens',\n",
              " 'and',\n",
              " 'command',\n",
              " 'the',\n",
              " 'respect',\n",
              " 'of',\n",
              " 'the',\n",
              " 'world',\n",
              " '.',\n",
              " 'I',\n",
              " 'dwell',\n",
              " 'on',\n",
              " 'this',\n",
              " 'prospect',\n",
              " 'with',\n",
              " 'every',\n",
              " 'satisfaction',\n",
              " 'which',\n",
              " 'an',\n",
              " 'ardent',\n",
              " 'love',\n",
              " 'for',\n",
              " 'my',\n",
              " 'country',\n",
              " 'can',\n",
              " 'inspire',\n",
              " ',',\n",
              " 'since',\n",
              " 'there',\n",
              " 'is',\n",
              " 'no',\n",
              " 'truth',\n",
              " 'more',\n",
              " 'thoroughly',\n",
              " 'established',\n",
              " 'than',\n",
              " 'that',\n",
              " 'there',\n",
              " 'exists',\n",
              " 'in',\n",
              " 'the',\n",
              " 'economy',\n",
              " 'and',\n",
              " 'course',\n",
              " 'of',\n",
              " 'nature',\n",
              " 'an',\n",
              " 'indissoluble',\n",
              " 'union',\n",
              " 'between',\n",
              " 'virtue',\n",
              " 'and',\n",
              " 'happiness',\n",
              " ';',\n",
              " 'between',\n",
              " 'duty',\n",
              " 'and',\n",
              " 'advantage',\n",
              " ';',\n",
              " 'between',\n",
              " 'the',\n",
              " 'genuine',\n",
              " 'maxims',\n",
              " 'of',\n",
              " 'an',\n",
              " 'honest',\n",
              " 'and',\n",
              " 'magnanimous',\n",
              " 'policy',\n",
              " 'and',\n",
              " 'the',\n",
              " 'solid',\n",
              " 'rewards',\n",
              " 'of',\n",
              " 'public',\n",
              " 'prosperity',\n",
              " 'and',\n",
              " 'felicity',\n",
              " ';',\n",
              " 'since',\n",
              " 'we',\n",
              " 'ought',\n",
              " 'to',\n",
              " 'be',\n",
              " 'no',\n",
              " 'less',\n",
              " 'persuaded',\n",
              " 'that',\n",
              " ...]"
            ]
          },
          "metadata": {},
          "execution_count": 10
        }
      ]
    },
    {
      "cell_type": "code",
      "metadata": {
        "colab": {
          "base_uri": "https://localhost:8080/"
        },
        "id": "H7PaV2fdQvEM",
        "outputId": "52d55c15-09c9-47eb-f31b-d2bfda22b844"
      },
      "source": [
        "len(word_tokenize(washiington_raw))"
      ],
      "execution_count": null,
      "outputs": [
        {
          "output_type": "execute_result",
          "data": {
            "text/plain": [
              "1537"
            ]
          },
          "metadata": {},
          "execution_count": 11
        }
      ]
    },
    {
      "cell_type": "code",
      "metadata": {
        "colab": {
          "base_uri": "https://localhost:8080/"
        },
        "id": "J2qrLbyNKBuC",
        "outputId": "38a4ad47-f244-4284-f6fc-4c3e2066e417"
      },
      "source": [
        "print(word_tokenize(washiington_raw),sent_tokenize(washiington_raw)[0:0])\n"
      ],
      "execution_count": null,
      "outputs": [
        {
          "output_type": "stream",
          "name": "stdout",
          "text": [
            "['Fellow-Citizens', 'of', 'the', 'Senate', 'and', 'of', 'the', 'House', 'of', 'Representatives', ':', 'Among', 'the', 'vicissitudes', 'incident', 'to', 'life', 'no', 'event', 'could', 'have', 'filled', 'me', 'with', 'greater', 'anxieties', 'than', 'that', 'of', 'which', 'the', 'notification', 'was', 'transmitted', 'by', 'your', 'order', ',', 'and', 'received', 'on', 'the', '14th', 'day', 'of', 'the', 'present', 'month', '.', 'On', 'the', 'one', 'hand', ',', 'I', 'was', 'summoned', 'by', 'my', 'Country', ',', 'whose', 'voice', 'I', 'can', 'never', 'hear', 'but', 'with', 'veneration', 'and', 'love', ',', 'from', 'a', 'retreat', 'which', 'I', 'had', 'chosen', 'with', 'the', 'fondest', 'predilection', ',', 'and', ',', 'in', 'my', 'flattering', 'hopes', ',', 'with', 'an', 'immutable', 'decision', ',', 'as', 'the', 'asylum', 'of', 'my', 'declining', 'years', '--', 'a', 'retreat', 'which', 'was', 'rendered', 'every', 'day', 'more', 'necessary', 'as', 'well', 'as', 'more', 'dear', 'to', 'me', 'by', 'the', 'addition', 'of', 'habit', 'to', 'inclination', ',', 'and', 'of', 'frequent', 'interruptions', 'in', 'my', 'health', 'to', 'the', 'gradual', 'waste', 'committed', 'on', 'it', 'by', 'time', '.', 'On', 'the', 'other', 'hand', ',', 'the', 'magnitude', 'and', 'difficulty', 'of', 'the', 'trust', 'to', 'which', 'the', 'voice', 'of', 'my', 'country', 'called', 'me', ',', 'being', 'sufficient', 'to', 'awaken', 'in', 'the', 'wisest', 'and', 'most', 'experienced', 'of', 'her', 'citizens', 'a', 'distrustful', 'scrutiny', 'into', 'his', 'qualifications', ',', 'could', 'not', 'but', 'overwhelm', 'with', 'despondence', 'one', 'who', '(', 'inheriting', 'inferior', 'endowments', 'from', 'nature', 'and', 'unpracticed', 'in', 'the', 'duties', 'of', 'civil', 'administration', ')', 'ought', 'to', 'be', 'peculiarly', 'conscious', 'of', 'his', 'own', 'deficiencies', '.', 'In', 'this', 'conflict', 'of', 'emotions', 'all', 'I', 'dare', 'aver', 'is', 'that', 'it', 'has', 'been', 'my', 'faithful', 'study', 'to', 'collect', 'my', 'duty', 'from', 'a', 'just', 'appreciation', 'of', 'every', 'circumstance', 'by', 'which', 'it', 'might', 'be', 'affected', '.', 'All', 'I', 'dare', 'hope', 'is', 'that', 'if', ',', 'in', 'executing', 'this', 'task', ',', 'I', 'have', 'been', 'too', 'much', 'swayed', 'by', 'a', 'grateful', 'remembrance', 'of', 'former', 'instances', ',', 'or', 'by', 'an', 'affectionate', 'sensibility', 'to', 'this', 'transcendent', 'proof', 'of', 'the', 'confidence', 'of', 'my', 'fellow', 'citizens', ',', 'and', 'have', 'thence', 'too', 'little', 'consulted', 'my', 'incapacity', 'as', 'well', 'as', 'disinclination', 'for', 'the', 'weighty', 'and', 'untried', 'cares', 'before', 'me', ',', 'my', 'error', 'will', 'be', 'palliated', 'by', 'the', 'motives', 'which', 'mislead', 'me', ',', 'and', 'its', 'consequences', 'be', 'judged', 'by', 'my', 'country', 'with', 'some', 'share', 'of', 'the', 'partiality', 'in', 'which', 'they', 'originated', '.', 'Such', 'being', 'the', 'impressions', 'under', 'which', 'I', 'have', ',', 'in', 'obedience', 'to', 'the', 'public', 'summons', ',', 'repaired', 'to', 'the', 'present', 'station', ',', 'it', 'would', 'be', 'peculiarly', 'improper', 'to', 'omit', 'in', 'this', 'first', 'official', 'act', 'my', 'fervent', 'supplications', 'to', 'that', 'Almighty', 'Being', 'who', 'rules', 'over', 'the', 'universe', ',', 'who', 'presides', 'in', 'the', 'councils', 'of', 'nations', ',', 'and', 'whose', 'providential', 'aids', 'can', 'supply', 'every', 'human', 'defect', ',', 'that', 'His', 'benediction', 'may', 'consecrate', 'to', 'the', 'liberties', 'and', 'happiness', 'of', 'the', 'people', 'of', 'the', 'United', 'States', 'a', 'Government', 'instituted', 'by', 'themselves', 'for', 'these', 'essential', 'purposes', ',', 'and', 'may', 'enable', 'every', 'instrument', 'employed', 'in', 'its', 'administration', 'to', 'execute', 'with', 'success', 'the', 'functions', 'allotted', 'to', 'his', 'charge', '.', 'In', 'tendering', 'this', 'homage', 'to', 'the', 'Great', 'Author', 'of', 'every', 'public', 'and', 'private', 'good', ',', 'I', 'assure', 'myself', 'that', 'it', 'expresses', 'your', 'sentiments', 'not', 'less', 'than', 'my', 'own', ',', 'nor', 'those', 'of', 'my', 'fellow', 'citizens', 'at', 'large', 'less', 'than', 'either', '.', 'No', 'people', 'can', 'be', 'bound', 'to', 'acknowledge', 'and', 'adore', 'the', 'Invisible', 'Hand', 'which', 'conducts', 'the', 'affairs', 'of', 'men', 'more', 'than', 'those', 'of', 'the', 'United', 'States', '.', 'Every', 'step', 'by', 'which', 'they', 'have', 'advanced', 'to', 'the', 'character', 'of', 'an', 'independent', 'nation', 'seems', 'to', 'have', 'been', 'distinguished', 'by', 'some', 'token', 'of', 'providential', 'agency', ';', 'and', 'in', 'the', 'important', 'revolution', 'just', 'accomplished', 'in', 'the', 'system', 'of', 'their', 'united', 'government', 'the', 'tranquil', 'deliberations', 'and', 'voluntary', 'consent', 'of', 'so', 'many', 'distinct', 'communities', 'from', 'which', 'the', 'event', 'has', 'resulted', 'can', 'not', 'be', 'compared', 'with', 'the', 'means', 'by', 'which', 'most', 'governments', 'have', 'been', 'established', 'without', 'some', 'return', 'of', 'pious', 'gratitude', ',', 'along', 'with', 'an', 'humble', 'anticipation', 'of', 'the', 'future', 'blessings', 'which', 'the', 'past', 'seem', 'to', 'presage', '.', 'These', 'reflections', ',', 'arising', 'out', 'of', 'the', 'present', 'crisis', ',', 'have', 'forced', 'themselves', 'too', 'strongly', 'on', 'my', 'mind', 'to', 'be', 'suppressed', '.', 'You', 'will', 'join', 'with', 'me', ',', 'I', 'trust', ',', 'in', 'thinking', 'that', 'there', 'are', 'none', 'under', 'the', 'influence', 'of', 'which', 'the', 'proceedings', 'of', 'a', 'new', 'and', 'free', 'government', 'can', 'more', 'auspiciously', 'commence', '.', 'By', 'the', 'article', 'establishing', 'the', 'executive', 'department', 'it', 'is', 'made', 'the', 'duty', 'of', 'the', 'President', '``', 'to', 'recommend', 'to', 'your', 'consideration', 'such', 'measures', 'as', 'he', 'shall', 'judge', 'necessary', 'and', 'expedient', '.', \"''\", 'The', 'circumstances', 'under', 'which', 'I', 'now', 'meet', 'you', 'will', 'acquit', 'me', 'from', 'entering', 'into', 'that', 'subject', 'further', 'than', 'to', 'refer', 'to', 'the', 'great', 'constitutional', 'charter', 'under', 'which', 'you', 'are', 'assembled', ',', 'and', 'which', ',', 'in', 'defining', 'your', 'powers', ',', 'designates', 'the', 'objects', 'to', 'which', 'your', 'attention', 'is', 'to', 'be', 'given', '.', 'It', 'will', 'be', 'more', 'consistent', 'with', 'those', 'circumstances', ',', 'and', 'far', 'more', 'congenial', 'with', 'the', 'feelings', 'which', 'actuate', 'me', ',', 'to', 'substitute', ',', 'in', 'place', 'of', 'a', 'recommendation', 'of', 'particular', 'measures', ',', 'the', 'tribute', 'that', 'is', 'due', 'to', 'the', 'talents', ',', 'the', 'rectitude', ',', 'and', 'the', 'patriotism', 'which', 'adorn', 'the', 'characters', 'selected', 'to', 'devise', 'and', 'adopt', 'them', '.', 'In', 'these', 'honorable', 'qualifications', 'I', 'behold', 'the', 'surest', 'pledges', 'that', 'as', 'on', 'one', 'side', 'no', 'local', 'prejudices', 'or', 'attachments', ',', 'no', 'separate', 'views', 'nor', 'party', 'animosities', ',', 'will', 'misdirect', 'the', 'comprehensive', 'and', 'equal', 'eye', 'which', 'ought', 'to', 'watch', 'over', 'this', 'great', 'assemblage', 'of', 'communities', 'and', 'interests', ',', 'so', ',', 'on', 'another', ',', 'that', 'the', 'foundation', 'of', 'our', 'national', 'policy', 'will', 'be', 'laid', 'in', 'the', 'pure', 'and', 'immutable', 'principles', 'of', 'private', 'morality', ',', 'and', 'the', 'preeminence', 'of', 'free', 'government', 'be', 'exemplified', 'by', 'all', 'the', 'attributes', 'which', 'can', 'win', 'the', 'affections', 'of', 'its', 'citizens', 'and', 'command', 'the', 'respect', 'of', 'the', 'world', '.', 'I', 'dwell', 'on', 'this', 'prospect', 'with', 'every', 'satisfaction', 'which', 'an', 'ardent', 'love', 'for', 'my', 'country', 'can', 'inspire', ',', 'since', 'there', 'is', 'no', 'truth', 'more', 'thoroughly', 'established', 'than', 'that', 'there', 'exists', 'in', 'the', 'economy', 'and', 'course', 'of', 'nature', 'an', 'indissoluble', 'union', 'between', 'virtue', 'and', 'happiness', ';', 'between', 'duty', 'and', 'advantage', ';', 'between', 'the', 'genuine', 'maxims', 'of', 'an', 'honest', 'and', 'magnanimous', 'policy', 'and', 'the', 'solid', 'rewards', 'of', 'public', 'prosperity', 'and', 'felicity', ';', 'since', 'we', 'ought', 'to', 'be', 'no', 'less', 'persuaded', 'that', 'the', 'propitious', 'smiles', 'of', 'Heaven', 'can', 'never', 'be', 'expected', 'on', 'a', 'nation', 'that', 'disregards', 'the', 'eternal', 'rules', 'of', 'order', 'and', 'right', 'which', 'Heaven', 'itself', 'has', 'ordained', ';', 'and', 'since', 'the', 'preservation', 'of', 'the', 'sacred', 'fire', 'of', 'liberty', 'and', 'the', 'destiny', 'of', 'the', 'republican', 'model', 'of', 'government', 'are', 'justly', 'considered', ',', 'perhaps', ',', 'as', 'deeply', ',', 'as', 'finally', ',', 'staked', 'on', 'the', 'experiment', 'entrusted', 'to', 'the', 'hands', 'of', 'the', 'American', 'people', '.', 'Besides', 'the', 'ordinary', 'objects', 'submitted', 'to', 'your', 'care', ',', 'it', 'will', 'remain', 'with', 'your', 'judgment', 'to', 'decide', 'how', 'far', 'an', 'exercise', 'of', 'the', 'occasional', 'power', 'delegated', 'by', 'the', 'fifth', 'article', 'of', 'the', 'Constitution', 'is', 'rendered', 'expedient', 'at', 'the', 'present', 'juncture', 'by', 'the', 'nature', 'of', 'objections', 'which', 'have', 'been', 'urged', 'against', 'the', 'system', ',', 'or', 'by', 'the', 'degree', 'of', 'inquietude', 'which', 'has', 'given', 'birth', 'to', 'them', '.', 'Instead', 'of', 'undertaking', 'particular', 'recommendations', 'on', 'this', 'subject', ',', 'in', 'which', 'I', 'could', 'be', 'guided', 'by', 'no', 'lights', 'derived', 'from', 'official', 'opportunities', ',', 'I', 'shall', 'again', 'give', 'way', 'to', 'my', 'entire', 'confidence', 'in', 'your', 'discernment', 'and', 'pursuit', 'of', 'the', 'public', 'good', ';', 'for', 'I', 'assure', 'myself', 'that', 'whilst', 'you', 'carefully', 'avoid', 'every', 'alteration', 'which', 'might', 'endanger', 'the', 'benefits', 'of', 'an', 'united', 'and', 'effective', 'government', ',', 'or', 'which', 'ought', 'to', 'await', 'the', 'future', 'lessons', 'of', 'experience', ',', 'a', 'reverence', 'for', 'the', 'characteristic', 'rights', 'of', 'freemen', 'and', 'a', 'regard', 'for', 'the', 'public', 'harmony', 'will', 'sufficiently', 'influence', 'your', 'deliberations', 'on', 'the', 'question', 'how', 'far', 'the', 'former', 'can', 'be', 'impregnably', 'fortified', 'or', 'the', 'latter', 'be', 'safely', 'and', 'advantageously', 'promoted', '.', 'To', 'the', 'foregoing', 'observations', 'I', 'have', 'one', 'to', 'add', ',', 'which', 'will', 'be', 'most', 'properly', 'addressed', 'to', 'the', 'House', 'of', 'Representatives', '.', 'It', 'concerns', 'myself', ',', 'and', 'will', 'therefore', 'be', 'as', 'brief', 'as', 'possible', '.', 'When', 'I', 'was', 'first', 'honored', 'with', 'a', 'call', 'into', 'the', 'service', 'of', 'my', 'country', ',', 'then', 'on', 'the', 'eve', 'of', 'an', 'arduous', 'struggle', 'for', 'its', 'liberties', ',', 'the', 'light', 'in', 'which', 'I', 'contemplated', 'my', 'duty', 'required', 'that', 'I', 'should', 'renounce', 'every', 'pecuniary', 'compensation', '.', 'From', 'this', 'resolution', 'I', 'have', 'in', 'no', 'instance', 'departed', ';', 'and', 'being', 'still', 'under', 'the', 'impressions', 'which', 'produced', 'it', ',', 'I', 'must', 'decline', 'as', 'inapplicable', 'to', 'myself', 'any', 'share', 'in', 'the', 'personal', 'emoluments', 'which', 'may', 'be', 'indispensably', 'included', 'in', 'a', 'permanent', 'provision', 'for', 'the', 'executive', 'department', ',', 'and', 'must', 'accordingly', 'pray', 'that', 'the', 'pecuniary', 'estimates', 'for', 'the', 'station', 'in', 'which', 'I', 'am', 'placed', 'may', 'during', 'my', 'continuance', 'in', 'it', 'be', 'limited', 'to', 'such', 'actual', 'expenditures', 'as', 'the', 'public', 'good', 'may', 'be', 'thought', 'to', 'require', '.', 'Having', 'thus', 'imparted', 'to', 'you', 'my', 'sentiments', 'as', 'they', 'have', 'been', 'awakened', 'by', 'the', 'occasion', 'which', 'brings', 'us', 'together', ',', 'I', 'shall', 'take', 'my', 'present', 'leave', ';', 'but', 'not', 'without', 'resorting', 'once', 'more', 'to', 'the', 'benign', 'Parent', 'of', 'the', 'Human', 'Race', 'in', 'humble', 'supplication', 'that', ',', 'since', 'He', 'has', 'been', 'pleased', 'to', 'favor', 'the', 'American', 'people', 'with', 'opportunities', 'for', 'deliberating', 'in', 'perfect', 'tranquillity', ',', 'and', 'dispositions', 'for', 'deciding', 'with', 'unparalleled', 'unanimity', 'on', 'a', 'form', 'of', 'government', 'for', 'the', 'security', 'of', 'their', 'union', 'and', 'the', 'advancement', 'of', 'their', 'happiness', ',', 'so', 'His', 'divine', 'blessing', 'may', 'be', 'equally', 'conspicuous', 'in', 'the', 'enlarged', 'views', ',', 'the', 'temperate', 'consultations', ',', 'and', 'the', 'wise', 'measures', 'on', 'which', 'the', 'success', 'of', 'this', 'Government', 'must', 'depend', '.'] []\n"
          ]
        }
      ]
    },
    {
      "cell_type": "code",
      "metadata": {
        "colab": {
          "base_uri": "https://localhost:8080/"
        },
        "id": "JHiuqQsnNDHa",
        "outputId": "2f461ef4-7b13-490c-a8b5-d374892a135f"
      },
      "source": [
        "from nltk.corpus import stopwords\n",
        "print(set(stopwords.words('english')))\n",
        "stop_words=stopwords.words('english')\n",
        "print(len(stop_words))"
      ],
      "execution_count": null,
      "outputs": [
        {
          "output_type": "stream",
          "name": "stdout",
          "text": [
            "{'all', 'yourselves', 'their', 'down', 'be', \"hadn't\", 'such', \"hasn't\", 'has', 'and', 'theirs', \"should've\", 'then', 'your', 'from', 'when', 'll', \"wasn't\", 'before', 'himself', 'but', 'why', 'to', \"that'll\", 'about', 'should', 'which', 'those', 'off', 'been', \"isn't\", 's', 'that', 'him', \"you'll\", 'once', \"wouldn't\", 'do', 'd', \"aren't\", 'i', 'me', \"mightn't\", 'between', 'isn', 'if', 'here', 'will', 'yours', 'with', 'wouldn', 'too', 'ours', 'some', 'ain', \"don't\", 'does', 'nor', 'ourselves', 'his', 'only', 'o', 'hasn', 'am', 'ma', 'below', 'yourself', 'just', 'are', 'an', 'how', 'more', 'wasn', 'shouldn', 'this', 'by', 'it', 'm', 'while', 'at', 'needn', 'itself', 'into', 'own', 'shan', \"mustn't\", 'until', \"you'd\", 'than', 'through', 'had', 'themselves', 'under', \"you've\", 'them', 'or', 'during', 'was', 'hadn', 'our', 'mightn', \"weren't\", 'she', 'where', 'not', \"she's\", \"couldn't\", 'won', 'doesn', 'y', 'further', 'hers', 've', 'of', 'my', 'a', \"you're\", 'there', 'most', \"didn't\", 'its', 'any', 'the', 're', 'who', 'no', 'for', \"shan't\", 'have', 'mustn', \"needn't\", 'weren', 'don', 'what', 'out', 'her', 'very', 'as', 'few', 'in', 'is', 'having', 'again', 'so', 'now', 'we', 'over', 'other', 'were', 'you', 'these', 'same', 'aren', 'haven', 't', \"haven't\", 'after', 'both', 'herself', \"it's\", 'can', \"doesn't\", 'up', 'couldn', \"shouldn't\", 'whom', 'didn', \"won't\", 'they', 'being', 'doing', 'on', 'he', 'myself', 'against', 'each', 'above', 'did', 'because'}\n",
            "179\n"
          ]
        }
      ]
    },
    {
      "cell_type": "code",
      "metadata": {
        "colab": {
          "base_uri": "https://localhost:8080/"
        },
        "id": "V67QthCHQ1bb",
        "outputId": "7cd4ef45-f791-455f-a51d-f29f96b34b4a"
      },
      "source": [
        "\n",
        "def word_len(w):\n",
        "  o=len(word_tokenize(w))\n",
        "  return o\n",
        "w=washiington_raw\n",
        "word_len(w)"
      ],
      "execution_count": null,
      "outputs": [
        {
          "output_type": "execute_result",
          "data": {
            "text/plain": [
              "1537"
            ]
          },
          "metadata": {},
          "execution_count": 14
        }
      ]
    },
    {
      "cell_type": "code",
      "metadata": {
        "colab": {
          "base_uri": "https://localhost:8080/"
        },
        "id": "oJbPYV9kXmJu",
        "outputId": "d5afbb23-90f5-42b9-e76a-c96d0e96ba0c"
      },
      "source": [
        "\n",
        "def sentence_len(s):\n",
        "  print(len(sent_tokenize(s)))\n",
        "s=washiington_raw\n",
        "sentence_len(s)"
      ],
      "execution_count": null,
      "outputs": [
        {
          "output_type": "stream",
          "name": "stdout",
          "text": [
            "23\n"
          ]
        }
      ]
    },
    {
      "cell_type": "code",
      "metadata": {
        "colab": {
          "base_uri": "https://localhost:8080/",
          "height": 160
        },
        "id": "dAEg6rfbX9Uj",
        "outputId": "a0ac3434-ca81-41c7-db2d-1e5eeec543d1"
      },
      "source": [
        "def remove_stopwords(text):\n",
        "  stopremoved=[]\n",
        "  for sentence in sent_tokenize(text):\n",
        "    filtered=[]\n",
        "    for word in word_tokenize(sentence):\n",
        "      if word not in stop_words:\n",
        "        filtered.append(word)\n",
        "    stopremoved.append(filtered)\n",
        "  _sentence=[]\n",
        "  for w in stopremoved:\n",
        "    _sentence.append(''.join(w))\n",
        "  _text=''.join(_sentence)\n",
        "  return _text\n",
        "text=washiington_raw\n",
        "remove_stopwords(text)\n"
      ],
      "execution_count": null,
      "outputs": [
        {
          "output_type": "execute_result",
          "data": {
            "application/vnd.google.colaboratory.intrinsic+json": {
              "type": "string"
            },
            "text/plain": [
              "\"Fellow-CitizensSenateHouseRepresentatives:Amongvicissitudesincidentlifeeventcouldfilledgreateranxietiesnotificationtransmittedorder,received14thdaypresentmonth.Ononehand,IsummonedCountry,whosevoiceIneverhearvenerationlove,retreatIchosenfondestpredilection,,flatteringhopes,immutabledecision,asylumdecliningyears--retreatrenderedeverydaynecessarywelldearadditionhabitinclination,frequentinterruptionshealthgradualwastecommittedtime.Onhand,magnitudedifficultytrustvoicecountrycalled,sufficientawakenwisestexperiencedcitizensdistrustfulscrutinyqualifications,couldoverwhelmdespondenceone(inheritinginferiorendowmentsnatureunpracticeddutiesciviladministration)oughtpeculiarlyconsciousdeficiencies.InconflictemotionsIdareaverfaithfulstudycollectdutyappreciationeverycircumstancemightaffected.AllIdarehope,executingtask,Imuchswayedgratefulremembranceformerinstances,affectionatesensibilitytranscendentproofconfidencefellowcitizens,thencelittleconsultedincapacitywelldisinclinationweightyuntriedcares,errorpalliatedmotivesmislead,consequencesjudgedcountrysharepartialityoriginated.SuchimpressionsI,obediencepublicsummons,repairedpresentstation,wouldpeculiarlyimproperomitfirstofficialactferventsupplicationsAlmightyBeingrulesuniverse,presidescouncilsnations,whoseprovidentialaidssupplyeveryhumandefect,HisbenedictionmayconsecratelibertieshappinesspeopleUnitedStatesGovernmentinstitutedessentialpurposes,mayenableeveryinstrumentemployedadministrationexecutesuccessfunctionsallottedcharge.IntenderinghomageGreatAuthoreverypublicprivategood,Iassureexpressessentimentsless,fellowcitizenslargelesseither.NopeopleboundacknowledgeadoreInvisibleHandconductsaffairsmenUnitedStates.Everystepadvancedcharacterindependentnationseemsdistinguishedtokenprovidentialagency;importantrevolutionaccomplishedsystemunitedgovernmenttranquildeliberationsvoluntaryconsentmanydistinctcommunitieseventresultedcomparedmeansgovernmentsestablishedwithoutreturnpiousgratitude,alonghumbleanticipationfutureblessingspastseempresage.Thesereflections,arisingpresentcrisis,forcedstronglymindsuppressed.Youjoin,Itrust,thinkingnoneinfluenceproceedingsnewfreegovernmentauspiciouslycommence.ByarticleestablishingexecutivedepartmentmadedutyPresident``recommendconsiderationmeasuresshalljudgenecessaryexpedient.''ThecircumstancesImeetacquitenteringsubjectrefergreatconstitutionalcharterassembled,,definingpowers,designatesobjectsattentiongiven.Itconsistentcircumstances,farcongenialfeelingsactuate,substitute,placerecommendationparticularmeasures,tributeduetalents,rectitude,patriotismadorncharactersselecteddeviseadopt.InhonorablequalificationsIbeholdsurestpledgesonesidelocalprejudicesattachments,separateviewspartyanimosities,misdirectcomprehensiveequaleyeoughtwatchgreatassemblagecommunitiesinterests,,another,foundationnationalpolicylaidpureimmutableprinciplesprivatemorality,preeminencefreegovernmentexemplifiedattributeswinaffectionscitizenscommandrespectworld.Idwellprospecteverysatisfactionardentlovecountryinspire,sincetruththoroughlyestablishedexistseconomycoursenatureindissolubleunionvirtuehappiness;dutyadvantage;genuinemaximshonestmagnanimouspolicysolidrewardspublicprosperityfelicity;sinceoughtlesspersuadedpropitioussmilesHeavenneverexpectednationdisregardseternalrulesorderrightHeavenordained;sincepreservationsacredfirelibertydestinyrepublicanmodelgovernmentjustlyconsidered,perhaps,deeply,finally,stakedexperimententrustedhandsAmericanpeople.Besidesordinaryobjectssubmittedcare,remainjudgmentdecidefarexerciseoccasionalpowerdelegatedfiftharticleConstitutionrenderedexpedientpresentjuncturenatureobjectionsurgedsystem,degreeinquietudegivenbirth.Insteadundertakingparticularrecommendationssubject,Icouldguidedlightsderivedofficialopportunities,Ishallgivewayentireconfidencediscernmentpursuitpublicgood;Iassurewhilstcarefullyavoideveryalterationmightendangerbenefitsunitedeffectivegovernment,oughtawaitfuturelessonsexperience,reverencecharacteristicrightsfreemenregardpublicharmonysufficientlyinfluencedeliberationsquestionfarformerimpregnablyfortifiedlattersafelyadvantageouslypromoted.ToforegoingobservationsIoneadd,properlyaddressedHouseRepresentatives.Itconcerns,thereforebriefpossible.WhenIfirsthonoredcallservicecountry,evearduousstruggleliberties,lightIcontemplateddutyrequiredIrenounceeverypecuniarycompensation.FromresolutionIinstancedeparted;stillimpressionsproduced,Imustdeclineinapplicablesharepersonalemolumentsmayindispensablyincludedpermanentprovisionexecutivedepartment,mustaccordinglypraypecuniaryestimatesstationIplacedmaycontinuancelimitedactualexpenditurespublicgoodmaythoughtrequire.Havingthusimpartedsentimentsawakenedoccasionbringsustogether,Ishalltakepresentleave;withoutresortingbenignParentHumanRacehumblesupplication,sinceHepleasedfavorAmericanpeopleopportunitiesdeliberatingperfecttranquillity,dispositionsdecidingunparalleledunanimityformgovernmentsecurityunionadvancementhappiness,Hisdivineblessingmayequallyconspicuousenlargedviews,temperateconsultations,wisemeasuressuccessGovernmentmustdepend.\""
            ]
          },
          "metadata": {},
          "execution_count": 16
        }
      ]
    },
    {
      "cell_type": "code",
      "metadata": {
        "colab": {
          "base_uri": "https://localhost:8080/"
        },
        "id": "3r3gDtIDWWQU",
        "outputId": "ef32538f-897c-4136-9a77-d108ffee6300"
      },
      "source": [
        "m=remove_stopwords(trum_raw)\n",
        "print(len(trum_raw))\n",
        "print(len(m))\n",
        "print(len(set(word_tokenize(m))))"
      ],
      "execution_count": null,
      "outputs": [
        {
          "output_type": "stream",
          "name": "stdout",
          "text": [
            "8449\n",
            "4949\n",
            "125\n"
          ]
        }
      ]
    },
    {
      "cell_type": "code",
      "metadata": {
        "id": "ux9qMmlyf3V0"
      },
      "source": [
        "def uni_w(m):\n",
        " c=remove_stopwords(m)\n",
        " x=word_tokenize(c)\n",
        " u=len(set(x))\n",
        " return u\n"
      ],
      "execution_count": null,
      "outputs": []
    },
    {
      "cell_type": "code",
      "metadata": {
        "colab": {
          "base_uri": "https://localhost:8080/"
        },
        "id": "hQuDF4b0CZFF",
        "outputId": "24c29a45-7496-4131-f6c7-6b3f84aa5001"
      },
      "source": [
        "uni_w(trum_raw)"
      ],
      "execution_count": null,
      "outputs": [
        {
          "output_type": "execute_result",
          "data": {
            "text/plain": [
              "125"
            ]
          },
          "metadata": {},
          "execution_count": 19
        }
      ]
    },
    {
      "cell_type": "code",
      "metadata": {
        "colab": {
          "base_uri": "https://localhost:8080/"
        },
        "id": "BnyFvfgTnzsy",
        "outputId": "cfb2b654-6922-42f2-bb14-38cdac038699"
      },
      "source": [
        "from nltk import pos_tag\n",
        "nltk.download('averaged_perceptron_tagger')\n",
        "tokenized=word_tokenize(washiington_raw)\n",
        "d=nltk.pos_tag(tokenized)\n",
        "print(d)"
      ],
      "execution_count": null,
      "outputs": [
        {
          "output_type": "stream",
          "name": "stdout",
          "text": [
            "[nltk_data] Downloading package averaged_perceptron_tagger to\n",
            "[nltk_data]     /root/nltk_data...\n",
            "[nltk_data]   Package averaged_perceptron_tagger is already up-to-\n",
            "[nltk_data]       date!\n",
            "[('Fellow-Citizens', 'NNS'), ('of', 'IN'), ('the', 'DT'), ('Senate', 'NNP'), ('and', 'CC'), ('of', 'IN'), ('the', 'DT'), ('House', 'NNP'), ('of', 'IN'), ('Representatives', 'NNPS'), (':', ':'), ('Among', 'IN'), ('the', 'DT'), ('vicissitudes', 'NNS'), ('incident', 'NN'), ('to', 'TO'), ('life', 'NN'), ('no', 'DT'), ('event', 'NN'), ('could', 'MD'), ('have', 'VB'), ('filled', 'VBN'), ('me', 'PRP'), ('with', 'IN'), ('greater', 'JJR'), ('anxieties', 'NNS'), ('than', 'IN'), ('that', 'DT'), ('of', 'IN'), ('which', 'WDT'), ('the', 'DT'), ('notification', 'NN'), ('was', 'VBD'), ('transmitted', 'VBN'), ('by', 'IN'), ('your', 'PRP$'), ('order', 'NN'), (',', ','), ('and', 'CC'), ('received', 'VBD'), ('on', 'IN'), ('the', 'DT'), ('14th', 'JJ'), ('day', 'NN'), ('of', 'IN'), ('the', 'DT'), ('present', 'JJ'), ('month', 'NN'), ('.', '.'), ('On', 'IN'), ('the', 'DT'), ('one', 'CD'), ('hand', 'NN'), (',', ','), ('I', 'PRP'), ('was', 'VBD'), ('summoned', 'VBN'), ('by', 'IN'), ('my', 'PRP$'), ('Country', 'NN'), (',', ','), ('whose', 'WP$'), ('voice', 'NN'), ('I', 'PRP'), ('can', 'MD'), ('never', 'RB'), ('hear', 'VB'), ('but', 'CC'), ('with', 'IN'), ('veneration', 'NN'), ('and', 'CC'), ('love', 'NN'), (',', ','), ('from', 'IN'), ('a', 'DT'), ('retreat', 'NN'), ('which', 'WDT'), ('I', 'PRP'), ('had', 'VBD'), ('chosen', 'VBN'), ('with', 'IN'), ('the', 'DT'), ('fondest', 'JJS'), ('predilection', 'NN'), (',', ','), ('and', 'CC'), (',', ','), ('in', 'IN'), ('my', 'PRP$'), ('flattering', 'NN'), ('hopes', 'NNS'), (',', ','), ('with', 'IN'), ('an', 'DT'), ('immutable', 'JJ'), ('decision', 'NN'), (',', ','), ('as', 'IN'), ('the', 'DT'), ('asylum', 'NN'), ('of', 'IN'), ('my', 'PRP$'), ('declining', 'VBG'), ('years', 'NNS'), ('--', ':'), ('a', 'DT'), ('retreat', 'NN'), ('which', 'WDT'), ('was', 'VBD'), ('rendered', 'VBN'), ('every', 'DT'), ('day', 'NN'), ('more', 'JJR'), ('necessary', 'JJ'), ('as', 'RB'), ('well', 'RB'), ('as', 'IN'), ('more', 'RBR'), ('dear', 'JJ'), ('to', 'TO'), ('me', 'PRP'), ('by', 'IN'), ('the', 'DT'), ('addition', 'NN'), ('of', 'IN'), ('habit', 'NN'), ('to', 'TO'), ('inclination', 'NN'), (',', ','), ('and', 'CC'), ('of', 'IN'), ('frequent', 'JJ'), ('interruptions', 'NNS'), ('in', 'IN'), ('my', 'PRP$'), ('health', 'NN'), ('to', 'TO'), ('the', 'DT'), ('gradual', 'JJ'), ('waste', 'NN'), ('committed', 'VBN'), ('on', 'IN'), ('it', 'PRP'), ('by', 'IN'), ('time', 'NN'), ('.', '.'), ('On', 'IN'), ('the', 'DT'), ('other', 'JJ'), ('hand', 'NN'), (',', ','), ('the', 'DT'), ('magnitude', 'NN'), ('and', 'CC'), ('difficulty', 'NN'), ('of', 'IN'), ('the', 'DT'), ('trust', 'NN'), ('to', 'TO'), ('which', 'WDT'), ('the', 'DT'), ('voice', 'NN'), ('of', 'IN'), ('my', 'PRP$'), ('country', 'NN'), ('called', 'VBD'), ('me', 'PRP'), (',', ','), ('being', 'VBG'), ('sufficient', 'JJ'), ('to', 'TO'), ('awaken', 'VB'), ('in', 'IN'), ('the', 'DT'), ('wisest', 'JJS'), ('and', 'CC'), ('most', 'RBS'), ('experienced', 'JJ'), ('of', 'IN'), ('her', 'PRP$'), ('citizens', 'NNS'), ('a', 'DT'), ('distrustful', 'JJ'), ('scrutiny', 'NN'), ('into', 'IN'), ('his', 'PRP$'), ('qualifications', 'NNS'), (',', ','), ('could', 'MD'), ('not', 'RB'), ('but', 'CC'), ('overwhelm', 'VBP'), ('with', 'IN'), ('despondence', 'NN'), ('one', 'CD'), ('who', 'WP'), ('(', '('), ('inheriting', 'VBG'), ('inferior', 'JJ'), ('endowments', 'NNS'), ('from', 'IN'), ('nature', 'NN'), ('and', 'CC'), ('unpracticed', 'JJ'), ('in', 'IN'), ('the', 'DT'), ('duties', 'NNS'), ('of', 'IN'), ('civil', 'JJ'), ('administration', 'NN'), (')', ')'), ('ought', 'MD'), ('to', 'TO'), ('be', 'VB'), ('peculiarly', 'RB'), ('conscious', 'JJ'), ('of', 'IN'), ('his', 'PRP$'), ('own', 'JJ'), ('deficiencies', 'NNS'), ('.', '.'), ('In', 'IN'), ('this', 'DT'), ('conflict', 'NN'), ('of', 'IN'), ('emotions', 'NNS'), ('all', 'DT'), ('I', 'PRP'), ('dare', 'VBP'), ('aver', 'RB'), ('is', 'VBZ'), ('that', 'IN'), ('it', 'PRP'), ('has', 'VBZ'), ('been', 'VBN'), ('my', 'PRP$'), ('faithful', 'JJ'), ('study', 'NN'), ('to', 'TO'), ('collect', 'VB'), ('my', 'PRP$'), ('duty', 'NN'), ('from', 'IN'), ('a', 'DT'), ('just', 'RB'), ('appreciation', 'NN'), ('of', 'IN'), ('every', 'DT'), ('circumstance', 'NN'), ('by', 'IN'), ('which', 'WDT'), ('it', 'PRP'), ('might', 'MD'), ('be', 'VB'), ('affected', 'VBN'), ('.', '.'), ('All', 'DT'), ('I', 'PRP'), ('dare', 'VBP'), ('hope', 'NN'), ('is', 'VBZ'), ('that', 'IN'), ('if', 'IN'), (',', ','), ('in', 'IN'), ('executing', 'VBG'), ('this', 'DT'), ('task', 'NN'), (',', ','), ('I', 'PRP'), ('have', 'VBP'), ('been', 'VBN'), ('too', 'RB'), ('much', 'JJ'), ('swayed', 'VBN'), ('by', 'IN'), ('a', 'DT'), ('grateful', 'JJ'), ('remembrance', 'NN'), ('of', 'IN'), ('former', 'JJ'), ('instances', 'NNS'), (',', ','), ('or', 'CC'), ('by', 'IN'), ('an', 'DT'), ('affectionate', 'JJ'), ('sensibility', 'NN'), ('to', 'TO'), ('this', 'DT'), ('transcendent', 'JJ'), ('proof', 'NN'), ('of', 'IN'), ('the', 'DT'), ('confidence', 'NN'), ('of', 'IN'), ('my', 'PRP$'), ('fellow', 'JJ'), ('citizens', 'NNS'), (',', ','), ('and', 'CC'), ('have', 'VBP'), ('thence', 'NN'), ('too', 'RB'), ('little', 'JJ'), ('consulted', 'JJ'), ('my', 'PRP$'), ('incapacity', 'NN'), ('as', 'RB'), ('well', 'RB'), ('as', 'IN'), ('disinclination', 'NN'), ('for', 'IN'), ('the', 'DT'), ('weighty', 'NN'), ('and', 'CC'), ('untried', 'JJ'), ('cares', 'NNS'), ('before', 'IN'), ('me', 'PRP'), (',', ','), ('my', 'PRP$'), ('error', 'NN'), ('will', 'MD'), ('be', 'VB'), ('palliated', 'VBN'), ('by', 'IN'), ('the', 'DT'), ('motives', 'NNS'), ('which', 'WDT'), ('mislead', 'VBP'), ('me', 'PRP'), (',', ','), ('and', 'CC'), ('its', 'PRP$'), ('consequences', 'NNS'), ('be', 'VB'), ('judged', 'VBN'), ('by', 'IN'), ('my', 'PRP$'), ('country', 'NN'), ('with', 'IN'), ('some', 'DT'), ('share', 'NN'), ('of', 'IN'), ('the', 'DT'), ('partiality', 'NN'), ('in', 'IN'), ('which', 'WDT'), ('they', 'PRP'), ('originated', 'VBD'), ('.', '.'), ('Such', 'JJ'), ('being', 'VBG'), ('the', 'DT'), ('impressions', 'NNS'), ('under', 'IN'), ('which', 'WDT'), ('I', 'PRP'), ('have', 'VBP'), (',', ','), ('in', 'IN'), ('obedience', 'NN'), ('to', 'TO'), ('the', 'DT'), ('public', 'JJ'), ('summons', 'NNS'), (',', ','), ('repaired', 'VBD'), ('to', 'TO'), ('the', 'DT'), ('present', 'JJ'), ('station', 'NN'), (',', ','), ('it', 'PRP'), ('would', 'MD'), ('be', 'VB'), ('peculiarly', 'RB'), ('improper', 'JJ'), ('to', 'TO'), ('omit', 'VB'), ('in', 'IN'), ('this', 'DT'), ('first', 'JJ'), ('official', 'NN'), ('act', 'NN'), ('my', 'PRP$'), ('fervent', 'JJ'), ('supplications', 'NNS'), ('to', 'TO'), ('that', 'DT'), ('Almighty', 'NNP'), ('Being', 'NNP'), ('who', 'WP'), ('rules', 'NNS'), ('over', 'IN'), ('the', 'DT'), ('universe', 'JJ'), (',', ','), ('who', 'WP'), ('presides', 'VBZ'), ('in', 'IN'), ('the', 'DT'), ('councils', 'NNS'), ('of', 'IN'), ('nations', 'NNS'), (',', ','), ('and', 'CC'), ('whose', 'WP$'), ('providential', 'JJ'), ('aids', 'NNS'), ('can', 'MD'), ('supply', 'VB'), ('every', 'DT'), ('human', 'JJ'), ('defect', 'NN'), (',', ','), ('that', 'IN'), ('His', 'PRP$'), ('benediction', 'NN'), ('may', 'MD'), ('consecrate', 'VB'), ('to', 'TO'), ('the', 'DT'), ('liberties', 'NNS'), ('and', 'CC'), ('happiness', 'NN'), ('of', 'IN'), ('the', 'DT'), ('people', 'NNS'), ('of', 'IN'), ('the', 'DT'), ('United', 'NNP'), ('States', 'NNPS'), ('a', 'DT'), ('Government', 'NNP'), ('instituted', 'VBN'), ('by', 'IN'), ('themselves', 'PRP'), ('for', 'IN'), ('these', 'DT'), ('essential', 'JJ'), ('purposes', 'NNS'), (',', ','), ('and', 'CC'), ('may', 'MD'), ('enable', 'VB'), ('every', 'DT'), ('instrument', 'NN'), ('employed', 'VBN'), ('in', 'IN'), ('its', 'PRP$'), ('administration', 'NN'), ('to', 'TO'), ('execute', 'VB'), ('with', 'IN'), ('success', 'NN'), ('the', 'DT'), ('functions', 'NNS'), ('allotted', 'VBD'), ('to', 'TO'), ('his', 'PRP$'), ('charge', 'NN'), ('.', '.'), ('In', 'IN'), ('tendering', 'VBG'), ('this', 'DT'), ('homage', 'NN'), ('to', 'TO'), ('the', 'DT'), ('Great', 'NNP'), ('Author', 'NNP'), ('of', 'IN'), ('every', 'DT'), ('public', 'NN'), ('and', 'CC'), ('private', 'JJ'), ('good', 'JJ'), (',', ','), ('I', 'PRP'), ('assure', 'VBP'), ('myself', 'PRP'), ('that', 'IN'), ('it', 'PRP'), ('expresses', 'VBZ'), ('your', 'PRP$'), ('sentiments', 'NNS'), ('not', 'RB'), ('less', 'RBR'), ('than', 'IN'), ('my', 'PRP$'), ('own', 'JJ'), (',', ','), ('nor', 'CC'), ('those', 'DT'), ('of', 'IN'), ('my', 'PRP$'), ('fellow', 'JJ'), ('citizens', 'NNS'), ('at', 'IN'), ('large', 'JJ'), ('less', 'JJR'), ('than', 'IN'), ('either', 'DT'), ('.', '.'), ('No', 'CC'), ('people', 'NNS'), ('can', 'MD'), ('be', 'VB'), ('bound', 'VBN'), ('to', 'TO'), ('acknowledge', 'VB'), ('and', 'CC'), ('adore', 'VB'), ('the', 'DT'), ('Invisible', 'NNP'), ('Hand', 'NNP'), ('which', 'WDT'), ('conducts', 'VBZ'), ('the', 'DT'), ('affairs', 'NNS'), ('of', 'IN'), ('men', 'NNS'), ('more', 'RBR'), ('than', 'IN'), ('those', 'DT'), ('of', 'IN'), ('the', 'DT'), ('United', 'NNP'), ('States', 'NNPS'), ('.', '.'), ('Every', 'DT'), ('step', 'NN'), ('by', 'IN'), ('which', 'WDT'), ('they', 'PRP'), ('have', 'VBP'), ('advanced', 'VBN'), ('to', 'TO'), ('the', 'DT'), ('character', 'NN'), ('of', 'IN'), ('an', 'DT'), ('independent', 'JJ'), ('nation', 'NN'), ('seems', 'VBZ'), ('to', 'TO'), ('have', 'VB'), ('been', 'VBN'), ('distinguished', 'VBN'), ('by', 'IN'), ('some', 'DT'), ('token', 'NN'), ('of', 'IN'), ('providential', 'JJ'), ('agency', 'NN'), (';', ':'), ('and', 'CC'), ('in', 'IN'), ('the', 'DT'), ('important', 'JJ'), ('revolution', 'NN'), ('just', 'RB'), ('accomplished', 'VBN'), ('in', 'IN'), ('the', 'DT'), ('system', 'NN'), ('of', 'IN'), ('their', 'PRP$'), ('united', 'JJ'), ('government', 'NN'), ('the', 'DT'), ('tranquil', 'NN'), ('deliberations', 'NNS'), ('and', 'CC'), ('voluntary', 'JJ'), ('consent', 'NN'), ('of', 'IN'), ('so', 'RB'), ('many', 'JJ'), ('distinct', 'JJ'), ('communities', 'NNS'), ('from', 'IN'), ('which', 'WDT'), ('the', 'DT'), ('event', 'NN'), ('has', 'VBZ'), ('resulted', 'VBN'), ('can', 'MD'), ('not', 'RB'), ('be', 'VB'), ('compared', 'VBN'), ('with', 'IN'), ('the', 'DT'), ('means', 'NNS'), ('by', 'IN'), ('which', 'WDT'), ('most', 'JJS'), ('governments', 'NNS'), ('have', 'VBP'), ('been', 'VBN'), ('established', 'VBN'), ('without', 'IN'), ('some', 'DT'), ('return', 'NN'), ('of', 'IN'), ('pious', 'JJ'), ('gratitude', 'NN'), (',', ','), ('along', 'IN'), ('with', 'IN'), ('an', 'DT'), ('humble', 'JJ'), ('anticipation', 'NN'), ('of', 'IN'), ('the', 'DT'), ('future', 'NN'), ('blessings', 'NNS'), ('which', 'WDT'), ('the', 'DT'), ('past', 'NN'), ('seem', 'VBP'), ('to', 'TO'), ('presage', 'VB'), ('.', '.'), ('These', 'DT'), ('reflections', 'NNS'), (',', ','), ('arising', 'VBG'), ('out', 'IN'), ('of', 'IN'), ('the', 'DT'), ('present', 'JJ'), ('crisis', 'NN'), (',', ','), ('have', 'VBP'), ('forced', 'VBN'), ('themselves', 'PRP'), ('too', 'RB'), ('strongly', 'RB'), ('on', 'IN'), ('my', 'PRP$'), ('mind', 'NN'), ('to', 'TO'), ('be', 'VB'), ('suppressed', 'VBN'), ('.', '.'), ('You', 'PRP'), ('will', 'MD'), ('join', 'VB'), ('with', 'IN'), ('me', 'PRP'), (',', ','), ('I', 'PRP'), ('trust', 'VBP'), (',', ','), ('in', 'IN'), ('thinking', 'VBG'), ('that', 'IN'), ('there', 'EX'), ('are', 'VBP'), ('none', 'NN'), ('under', 'IN'), ('the', 'DT'), ('influence', 'NN'), ('of', 'IN'), ('which', 'WDT'), ('the', 'DT'), ('proceedings', 'NNS'), ('of', 'IN'), ('a', 'DT'), ('new', 'JJ'), ('and', 'CC'), ('free', 'JJ'), ('government', 'NN'), ('can', 'MD'), ('more', 'RBR'), ('auspiciously', 'RB'), ('commence', 'NN'), ('.', '.'), ('By', 'IN'), ('the', 'DT'), ('article', 'NN'), ('establishing', 'VBG'), ('the', 'DT'), ('executive', 'NN'), ('department', 'NN'), ('it', 'PRP'), ('is', 'VBZ'), ('made', 'VBN'), ('the', 'DT'), ('duty', 'NN'), ('of', 'IN'), ('the', 'DT'), ('President', 'NNP'), ('``', '``'), ('to', 'TO'), ('recommend', 'VB'), ('to', 'TO'), ('your', 'PRP$'), ('consideration', 'NN'), ('such', 'JJ'), ('measures', 'NNS'), ('as', 'IN'), ('he', 'PRP'), ('shall', 'MD'), ('judge', 'VB'), ('necessary', 'JJ'), ('and', 'CC'), ('expedient', 'NN'), ('.', '.'), (\"''\", \"''\"), ('The', 'DT'), ('circumstances', 'NNS'), ('under', 'IN'), ('which', 'WDT'), ('I', 'PRP'), ('now', 'RB'), ('meet', 'VBP'), ('you', 'PRP'), ('will', 'MD'), ('acquit', 'VB'), ('me', 'PRP'), ('from', 'IN'), ('entering', 'VBG'), ('into', 'IN'), ('that', 'DT'), ('subject', 'NN'), ('further', 'RB'), ('than', 'IN'), ('to', 'TO'), ('refer', 'VB'), ('to', 'TO'), ('the', 'DT'), ('great', 'JJ'), ('constitutional', 'JJ'), ('charter', 'NN'), ('under', 'IN'), ('which', 'WDT'), ('you', 'PRP'), ('are', 'VBP'), ('assembled', 'VBN'), (',', ','), ('and', 'CC'), ('which', 'WDT'), (',', ','), ('in', 'IN'), ('defining', 'VBG'), ('your', 'PRP$'), ('powers', 'NNS'), (',', ','), ('designates', 'VBZ'), ('the', 'DT'), ('objects', 'NNS'), ('to', 'TO'), ('which', 'WDT'), ('your', 'PRP$'), ('attention', 'NN'), ('is', 'VBZ'), ('to', 'TO'), ('be', 'VB'), ('given', 'VBN'), ('.', '.'), ('It', 'PRP'), ('will', 'MD'), ('be', 'VB'), ('more', 'RBR'), ('consistent', 'JJ'), ('with', 'IN'), ('those', 'DT'), ('circumstances', 'NNS'), (',', ','), ('and', 'CC'), ('far', 'RB'), ('more', 'RBR'), ('congenial', 'JJ'), ('with', 'IN'), ('the', 'DT'), ('feelings', 'NNS'), ('which', 'WDT'), ('actuate', 'VBP'), ('me', 'PRP'), (',', ','), ('to', 'TO'), ('substitute', 'VB'), (',', ','), ('in', 'IN'), ('place', 'NN'), ('of', 'IN'), ('a', 'DT'), ('recommendation', 'NN'), ('of', 'IN'), ('particular', 'JJ'), ('measures', 'NNS'), (',', ','), ('the', 'DT'), ('tribute', 'NN'), ('that', 'WDT'), ('is', 'VBZ'), ('due', 'JJ'), ('to', 'TO'), ('the', 'DT'), ('talents', 'NNS'), (',', ','), ('the', 'DT'), ('rectitude', 'NN'), (',', ','), ('and', 'CC'), ('the', 'DT'), ('patriotism', 'NN'), ('which', 'WDT'), ('adorn', 'VBZ'), ('the', 'DT'), ('characters', 'NNS'), ('selected', 'VBN'), ('to', 'TO'), ('devise', 'VB'), ('and', 'CC'), ('adopt', 'VB'), ('them', 'PRP'), ('.', '.'), ('In', 'IN'), ('these', 'DT'), ('honorable', 'JJ'), ('qualifications', 'NNS'), ('I', 'PRP'), ('behold', 'VBP'), ('the', 'DT'), ('surest', 'JJS'), ('pledges', 'NNS'), ('that', 'WDT'), ('as', 'IN'), ('on', 'IN'), ('one', 'CD'), ('side', 'NN'), ('no', 'DT'), ('local', 'JJ'), ('prejudices', 'NNS'), ('or', 'CC'), ('attachments', 'NNS'), (',', ','), ('no', 'DT'), ('separate', 'JJ'), ('views', 'NNS'), ('nor', 'CC'), ('party', 'NN'), ('animosities', 'NNS'), (',', ','), ('will', 'MD'), ('misdirect', 'VB'), ('the', 'DT'), ('comprehensive', 'JJ'), ('and', 'CC'), ('equal', 'JJ'), ('eye', 'NN'), ('which', 'WDT'), ('ought', 'MD'), ('to', 'TO'), ('watch', 'VB'), ('over', 'IN'), ('this', 'DT'), ('great', 'JJ'), ('assemblage', 'NN'), ('of', 'IN'), ('communities', 'NNS'), ('and', 'CC'), ('interests', 'NNS'), (',', ','), ('so', 'RB'), (',', ','), ('on', 'IN'), ('another', 'DT'), (',', ','), ('that', 'IN'), ('the', 'DT'), ('foundation', 'NN'), ('of', 'IN'), ('our', 'PRP$'), ('national', 'JJ'), ('policy', 'NN'), ('will', 'MD'), ('be', 'VB'), ('laid', 'VBN'), ('in', 'IN'), ('the', 'DT'), ('pure', 'NN'), ('and', 'CC'), ('immutable', 'JJ'), ('principles', 'NNS'), ('of', 'IN'), ('private', 'JJ'), ('morality', 'NN'), (',', ','), ('and', 'CC'), ('the', 'DT'), ('preeminence', 'NN'), ('of', 'IN'), ('free', 'JJ'), ('government', 'NN'), ('be', 'VB'), ('exemplified', 'VBN'), ('by', 'IN'), ('all', 'PDT'), ('the', 'DT'), ('attributes', 'NNS'), ('which', 'WDT'), ('can', 'MD'), ('win', 'VB'), ('the', 'DT'), ('affections', 'NNS'), ('of', 'IN'), ('its', 'PRP$'), ('citizens', 'NNS'), ('and', 'CC'), ('command', 'VB'), ('the', 'DT'), ('respect', 'NN'), ('of', 'IN'), ('the', 'DT'), ('world', 'NN'), ('.', '.'), ('I', 'PRP'), ('dwell', 'VBP'), ('on', 'IN'), ('this', 'DT'), ('prospect', 'NN'), ('with', 'IN'), ('every', 'DT'), ('satisfaction', 'NN'), ('which', 'WDT'), ('an', 'DT'), ('ardent', 'NN'), ('love', 'NN'), ('for', 'IN'), ('my', 'PRP$'), ('country', 'NN'), ('can', 'MD'), ('inspire', 'VB'), (',', ','), ('since', 'IN'), ('there', 'EX'), ('is', 'VBZ'), ('no', 'DT'), ('truth', 'NN'), ('more', 'RBR'), ('thoroughly', 'RB'), ('established', 'VBN'), ('than', 'IN'), ('that', 'IN'), ('there', 'EX'), ('exists', 'VBZ'), ('in', 'IN'), ('the', 'DT'), ('economy', 'NN'), ('and', 'CC'), ('course', 'NN'), ('of', 'IN'), ('nature', 'NN'), ('an', 'DT'), ('indissoluble', 'JJ'), ('union', 'NN'), ('between', 'IN'), ('virtue', 'NN'), ('and', 'CC'), ('happiness', 'NN'), (';', ':'), ('between', 'IN'), ('duty', 'NN'), ('and', 'CC'), ('advantage', 'NN'), (';', ':'), ('between', 'IN'), ('the', 'DT'), ('genuine', 'JJ'), ('maxims', 'NN'), ('of', 'IN'), ('an', 'DT'), ('honest', 'NN'), ('and', 'CC'), ('magnanimous', 'JJ'), ('policy', 'NN'), ('and', 'CC'), ('the', 'DT'), ('solid', 'JJ'), ('rewards', 'NNS'), ('of', 'IN'), ('public', 'JJ'), ('prosperity', 'NN'), ('and', 'CC'), ('felicity', 'NN'), (';', ':'), ('since', 'IN'), ('we', 'PRP'), ('ought', 'MD'), ('to', 'TO'), ('be', 'VB'), ('no', 'RB'), ('less', 'RBR'), ('persuaded', 'VBD'), ('that', 'IN'), ('the', 'DT'), ('propitious', 'JJ'), ('smiles', 'NNS'), ('of', 'IN'), ('Heaven', 'NNP'), ('can', 'MD'), ('never', 'RB'), ('be', 'VB'), ('expected', 'VBN'), ('on', 'IN'), ('a', 'DT'), ('nation', 'NN'), ('that', 'WDT'), ('disregards', 'VBZ'), ('the', 'DT'), ('eternal', 'JJ'), ('rules', 'NNS'), ('of', 'IN'), ('order', 'NN'), ('and', 'CC'), ('right', 'NN'), ('which', 'WDT'), ('Heaven', 'NNP'), ('itself', 'PRP'), ('has', 'VBZ'), ('ordained', 'VBN'), (';', ':'), ('and', 'CC'), ('since', 'IN'), ('the', 'DT'), ('preservation', 'NN'), ('of', 'IN'), ('the', 'DT'), ('sacred', 'JJ'), ('fire', 'NN'), ('of', 'IN'), ('liberty', 'NN'), ('and', 'CC'), ('the', 'DT'), ('destiny', 'NN'), ('of', 'IN'), ('the', 'DT'), ('republican', 'JJ'), ('model', 'NN'), ('of', 'IN'), ('government', 'NN'), ('are', 'VBP'), ('justly', 'RB'), ('considered', 'VBN'), (',', ','), ('perhaps', 'RB'), (',', ','), ('as', 'IN'), ('deeply', 'RB'), (',', ','), ('as', 'IN'), ('finally', 'RB'), (',', ','), ('staked', 'VBD'), ('on', 'IN'), ('the', 'DT'), ('experiment', 'NN'), ('entrusted', 'VBD'), ('to', 'TO'), ('the', 'DT'), ('hands', 'NNS'), ('of', 'IN'), ('the', 'DT'), ('American', 'JJ'), ('people', 'NNS'), ('.', '.'), ('Besides', 'IN'), ('the', 'DT'), ('ordinary', 'JJ'), ('objects', 'NNS'), ('submitted', 'VBN'), ('to', 'TO'), ('your', 'PRP$'), ('care', 'NN'), (',', ','), ('it', 'PRP'), ('will', 'MD'), ('remain', 'VB'), ('with', 'IN'), ('your', 'PRP$'), ('judgment', 'NN'), ('to', 'TO'), ('decide', 'VB'), ('how', 'WRB'), ('far', 'RB'), ('an', 'DT'), ('exercise', 'NN'), ('of', 'IN'), ('the', 'DT'), ('occasional', 'JJ'), ('power', 'NN'), ('delegated', 'VBN'), ('by', 'IN'), ('the', 'DT'), ('fifth', 'JJ'), ('article', 'NN'), ('of', 'IN'), ('the', 'DT'), ('Constitution', 'NNP'), ('is', 'VBZ'), ('rendered', 'VBN'), ('expedient', 'NN'), ('at', 'IN'), ('the', 'DT'), ('present', 'JJ'), ('juncture', 'NN'), ('by', 'IN'), ('the', 'DT'), ('nature', 'NN'), ('of', 'IN'), ('objections', 'NNS'), ('which', 'WDT'), ('have', 'VBP'), ('been', 'VBN'), ('urged', 'VBN'), ('against', 'IN'), ('the', 'DT'), ('system', 'NN'), (',', ','), ('or', 'CC'), ('by', 'IN'), ('the', 'DT'), ('degree', 'NN'), ('of', 'IN'), ('inquietude', 'NN'), ('which', 'WDT'), ('has', 'VBZ'), ('given', 'VBN'), ('birth', 'NN'), ('to', 'TO'), ('them', 'PRP'), ('.', '.'), ('Instead', 'RB'), ('of', 'IN'), ('undertaking', 'VBG'), ('particular', 'JJ'), ('recommendations', 'NNS'), ('on', 'IN'), ('this', 'DT'), ('subject', 'NN'), (',', ','), ('in', 'IN'), ('which', 'WDT'), ('I', 'PRP'), ('could', 'MD'), ('be', 'VB'), ('guided', 'VBN'), ('by', 'IN'), ('no', 'DT'), ('lights', 'NNS'), ('derived', 'VBN'), ('from', 'IN'), ('official', 'JJ'), ('opportunities', 'NNS'), (',', ','), ('I', 'PRP'), ('shall', 'MD'), ('again', 'RB'), ('give', 'VB'), ('way', 'NN'), ('to', 'TO'), ('my', 'PRP$'), ('entire', 'JJ'), ('confidence', 'NN'), ('in', 'IN'), ('your', 'PRP$'), ('discernment', 'NN'), ('and', 'CC'), ('pursuit', 'NN'), ('of', 'IN'), ('the', 'DT'), ('public', 'JJ'), ('good', 'NN'), (';', ':'), ('for', 'IN'), ('I', 'PRP'), ('assure', 'VBP'), ('myself', 'PRP'), ('that', 'IN'), ('whilst', 'NN'), ('you', 'PRP'), ('carefully', 'RB'), ('avoid', 'VB'), ('every', 'DT'), ('alteration', 'NN'), ('which', 'WDT'), ('might', 'MD'), ('endanger', 'VB'), ('the', 'DT'), ('benefits', 'NNS'), ('of', 'IN'), ('an', 'DT'), ('united', 'JJ'), ('and', 'CC'), ('effective', 'JJ'), ('government', 'NN'), (',', ','), ('or', 'CC'), ('which', 'WDT'), ('ought', 'MD'), ('to', 'TO'), ('await', 'VB'), ('the', 'DT'), ('future', 'JJ'), ('lessons', 'NNS'), ('of', 'IN'), ('experience', 'NN'), (',', ','), ('a', 'DT'), ('reverence', 'NN'), ('for', 'IN'), ('the', 'DT'), ('characteristic', 'JJ'), ('rights', 'NNS'), ('of', 'IN'), ('freemen', 'NNS'), ('and', 'CC'), ('a', 'DT'), ('regard', 'NN'), ('for', 'IN'), ('the', 'DT'), ('public', 'JJ'), ('harmony', 'NN'), ('will', 'MD'), ('sufficiently', 'RB'), ('influence', 'VB'), ('your', 'PRP$'), ('deliberations', 'NNS'), ('on', 'IN'), ('the', 'DT'), ('question', 'NN'), ('how', 'WRB'), ('far', 'RB'), ('the', 'DT'), ('former', 'JJ'), ('can', 'MD'), ('be', 'VB'), ('impregnably', 'RB'), ('fortified', 'VBN'), ('or', 'CC'), ('the', 'DT'), ('latter', 'JJ'), ('be', 'VB'), ('safely', 'RB'), ('and', 'CC'), ('advantageously', 'RB'), ('promoted', 'VBN'), ('.', '.'), ('To', 'TO'), ('the', 'DT'), ('foregoing', 'JJ'), ('observations', 'NNS'), ('I', 'PRP'), ('have', 'VBP'), ('one', 'CD'), ('to', 'TO'), ('add', 'VB'), (',', ','), ('which', 'WDT'), ('will', 'MD'), ('be', 'VB'), ('most', 'RBS'), ('properly', 'RB'), ('addressed', 'VBN'), ('to', 'TO'), ('the', 'DT'), ('House', 'NNP'), ('of', 'IN'), ('Representatives', 'NNPS'), ('.', '.'), ('It', 'PRP'), ('concerns', 'VBZ'), ('myself', 'PRP'), (',', ','), ('and', 'CC'), ('will', 'MD'), ('therefore', 'RB'), ('be', 'VB'), ('as', 'RB'), ('brief', 'JJ'), ('as', 'IN'), ('possible', 'JJ'), ('.', '.'), ('When', 'WRB'), ('I', 'PRP'), ('was', 'VBD'), ('first', 'RB'), ('honored', 'VBN'), ('with', 'IN'), ('a', 'DT'), ('call', 'NN'), ('into', 'IN'), ('the', 'DT'), ('service', 'NN'), ('of', 'IN'), ('my', 'PRP$'), ('country', 'NN'), (',', ','), ('then', 'RB'), ('on', 'IN'), ('the', 'DT'), ('eve', 'NN'), ('of', 'IN'), ('an', 'DT'), ('arduous', 'JJ'), ('struggle', 'NN'), ('for', 'IN'), ('its', 'PRP$'), ('liberties', 'NNS'), (',', ','), ('the', 'DT'), ('light', 'NN'), ('in', 'IN'), ('which', 'WDT'), ('I', 'PRP'), ('contemplated', 'VBD'), ('my', 'PRP$'), ('duty', 'NN'), ('required', 'VBD'), ('that', 'IN'), ('I', 'PRP'), ('should', 'MD'), ('renounce', 'VB'), ('every', 'DT'), ('pecuniary', 'JJ'), ('compensation', 'NN'), ('.', '.'), ('From', 'IN'), ('this', 'DT'), ('resolution', 'NN'), ('I', 'PRP'), ('have', 'VBP'), ('in', 'IN'), ('no', 'DT'), ('instance', 'NN'), ('departed', 'VBD'), (';', ':'), ('and', 'CC'), ('being', 'VBG'), ('still', 'RB'), ('under', 'IN'), ('the', 'DT'), ('impressions', 'NNS'), ('which', 'WDT'), ('produced', 'VBD'), ('it', 'PRP'), (',', ','), ('I', 'PRP'), ('must', 'MD'), ('decline', 'VB'), ('as', 'IN'), ('inapplicable', 'JJ'), ('to', 'TO'), ('myself', 'VB'), ('any', 'DT'), ('share', 'NN'), ('in', 'IN'), ('the', 'DT'), ('personal', 'JJ'), ('emoluments', 'NNS'), ('which', 'WDT'), ('may', 'MD'), ('be', 'VB'), ('indispensably', 'RB'), ('included', 'VBN'), ('in', 'IN'), ('a', 'DT'), ('permanent', 'JJ'), ('provision', 'NN'), ('for', 'IN'), ('the', 'DT'), ('executive', 'NN'), ('department', 'NN'), (',', ','), ('and', 'CC'), ('must', 'MD'), ('accordingly', 'RB'), ('pray', 'VB'), ('that', 'IN'), ('the', 'DT'), ('pecuniary', 'JJ'), ('estimates', 'NNS'), ('for', 'IN'), ('the', 'DT'), ('station', 'NN'), ('in', 'IN'), ('which', 'WDT'), ('I', 'PRP'), ('am', 'VBP'), ('placed', 'VBN'), ('may', 'MD'), ('during', 'IN'), ('my', 'PRP$'), ('continuance', 'NN'), ('in', 'IN'), ('it', 'PRP'), ('be', 'VB'), ('limited', 'VBN'), ('to', 'TO'), ('such', 'JJ'), ('actual', 'JJ'), ('expenditures', 'NNS'), ('as', 'IN'), ('the', 'DT'), ('public', 'JJ'), ('good', 'NN'), ('may', 'MD'), ('be', 'VB'), ('thought', 'VBN'), ('to', 'TO'), ('require', 'VB'), ('.', '.'), ('Having', 'VBG'), ('thus', 'RB'), ('imparted', 'VBN'), ('to', 'TO'), ('you', 'PRP'), ('my', 'PRP$'), ('sentiments', 'NNS'), ('as', 'IN'), ('they', 'PRP'), ('have', 'VBP'), ('been', 'VBN'), ('awakened', 'VBN'), ('by', 'IN'), ('the', 'DT'), ('occasion', 'NN'), ('which', 'WDT'), ('brings', 'VBZ'), ('us', 'PRP'), ('together', 'RB'), (',', ','), ('I', 'PRP'), ('shall', 'MD'), ('take', 'VB'), ('my', 'PRP$'), ('present', 'JJ'), ('leave', 'VBP'), (';', ':'), ('but', 'CC'), ('not', 'RB'), ('without', 'IN'), ('resorting', 'VBG'), ('once', 'RB'), ('more', 'JJR'), ('to', 'TO'), ('the', 'DT'), ('benign', 'JJ'), ('Parent', 'NN'), ('of', 'IN'), ('the', 'DT'), ('Human', 'NNP'), ('Race', 'NNP'), ('in', 'IN'), ('humble', 'JJ'), ('supplication', 'NN'), ('that', 'IN'), (',', ','), ('since', 'IN'), ('He', 'PRP'), ('has', 'VBZ'), ('been', 'VBN'), ('pleased', 'VBN'), ('to', 'TO'), ('favor', 'VB'), ('the', 'DT'), ('American', 'JJ'), ('people', 'NNS'), ('with', 'IN'), ('opportunities', 'NNS'), ('for', 'IN'), ('deliberating', 'VBG'), ('in', 'IN'), ('perfect', 'JJ'), ('tranquillity', 'NN'), (',', ','), ('and', 'CC'), ('dispositions', 'NNS'), ('for', 'IN'), ('deciding', 'VBG'), ('with', 'IN'), ('unparalleled', 'JJ'), ('unanimity', 'NN'), ('on', 'IN'), ('a', 'DT'), ('form', 'NN'), ('of', 'IN'), ('government', 'NN'), ('for', 'IN'), ('the', 'DT'), ('security', 'NN'), ('of', 'IN'), ('their', 'PRP$'), ('union', 'NN'), ('and', 'CC'), ('the', 'DT'), ('advancement', 'NN'), ('of', 'IN'), ('their', 'PRP$'), ('happiness', 'NN'), (',', ','), ('so', 'IN'), ('His', 'PRP$'), ('divine', 'NN'), ('blessing', 'NN'), ('may', 'MD'), ('be', 'VB'), ('equally', 'RB'), ('conspicuous', 'JJ'), ('in', 'IN'), ('the', 'DT'), ('enlarged', 'JJ'), ('views', 'NNS'), (',', ','), ('the', 'DT'), ('temperate', 'NN'), ('consultations', 'NNS'), (',', ','), ('and', 'CC'), ('the', 'DT'), ('wise', 'NN'), ('measures', 'NNS'), ('on', 'IN'), ('which', 'WDT'), ('the', 'DT'), ('success', 'NN'), ('of', 'IN'), ('this', 'DT'), ('Government', 'NNP'), ('must', 'MD'), ('depend', 'VB'), ('.', '.')]\n"
          ]
        }
      ]
    },
    {
      "cell_type": "code",
      "metadata": {
        "id": "PXxzKTQVpHTc"
      },
      "source": [
        "def part_sp(f):\n",
        " tokenized=word_tokenize(f)\n",
        " d=nltk.pos_tag(tokenized)\n",
        " return d\n",
        "\n",
        "\n"
      ],
      "execution_count": null,
      "outputs": []
    },
    {
      "cell_type": "code",
      "metadata": {
        "id": "WRyz8xxJJjLW"
      },
      "source": [
        "w=sent_tokenize(washiington_raw)[0]\n",
        "\n"
      ],
      "execution_count": null,
      "outputs": []
    },
    {
      "cell_type": "code",
      "metadata": {
        "colab": {
          "base_uri": "https://localhost:8080/"
        },
        "id": "ggdmrh5UJ_9-",
        "outputId": "2575b43f-8a39-43da-9eaf-5089dee9cbb8"
      },
      "source": [
        "part_sp(w)"
      ],
      "execution_count": null,
      "outputs": [
        {
          "output_type": "execute_result",
          "data": {
            "text/plain": [
              "[('Fellow-Citizens', 'NNS'),\n",
              " ('of', 'IN'),\n",
              " ('the', 'DT'),\n",
              " ('Senate', 'NNP'),\n",
              " ('and', 'CC'),\n",
              " ('of', 'IN'),\n",
              " ('the', 'DT'),\n",
              " ('House', 'NNP'),\n",
              " ('of', 'IN'),\n",
              " ('Representatives', 'NNPS'),\n",
              " (':', ':'),\n",
              " ('Among', 'IN'),\n",
              " ('the', 'DT'),\n",
              " ('vicissitudes', 'NNS'),\n",
              " ('incident', 'NN'),\n",
              " ('to', 'TO'),\n",
              " ('life', 'NN'),\n",
              " ('no', 'DT'),\n",
              " ('event', 'NN'),\n",
              " ('could', 'MD'),\n",
              " ('have', 'VB'),\n",
              " ('filled', 'VBN'),\n",
              " ('me', 'PRP'),\n",
              " ('with', 'IN'),\n",
              " ('greater', 'JJR'),\n",
              " ('anxieties', 'NNS'),\n",
              " ('than', 'IN'),\n",
              " ('that', 'DT'),\n",
              " ('of', 'IN'),\n",
              " ('which', 'WDT'),\n",
              " ('the', 'DT'),\n",
              " ('notification', 'NN'),\n",
              " ('was', 'VBD'),\n",
              " ('transmitted', 'VBN'),\n",
              " ('by', 'IN'),\n",
              " ('your', 'PRP$'),\n",
              " ('order', 'NN'),\n",
              " (',', ','),\n",
              " ('and', 'CC'),\n",
              " ('received', 'VBD'),\n",
              " ('on', 'IN'),\n",
              " ('the', 'DT'),\n",
              " ('14th', 'JJ'),\n",
              " ('day', 'NN'),\n",
              " ('of', 'IN'),\n",
              " ('the', 'DT'),\n",
              " ('present', 'JJ'),\n",
              " ('month', 'NN'),\n",
              " ('.', '.')]"
            ]
          },
          "metadata": {},
          "execution_count": 23
        }
      ]
    },
    {
      "cell_type": "code",
      "metadata": {
        "colab": {
          "base_uri": "https://localhost:8080/"
        },
        "id": "VdAXiwtdvQfx",
        "outputId": "c1b7ce1a-152a-4223-8de8-a8c55a44a35a"
      },
      "source": [
        "def len_sp(list_here,tag):\n",
        "  b=part_sp(list_here)\n",
        "  count=0\n",
        "  for i in b:\n",
        "    if i[1]==tag:\n",
        "      count=count+1;\n",
        "    \n",
        "  return count;\n",
        "\n",
        "len_sp(w,'NNS')"
      ],
      "execution_count": null,
      "outputs": [
        {
          "output_type": "execute_result",
          "data": {
            "text/plain": [
              "3"
            ]
          },
          "metadata": {},
          "execution_count": 24
        }
      ]
    },
    {
      "cell_type": "code",
      "metadata": {
        "colab": {
          "base_uri": "https://localhost:8080/",
          "height": 204
        },
        "id": "1bhar9UIJB8F",
        "outputId": "77007078-27f5-4526-bc0a-0f2574fb2615"
      },
      "source": [
        "import pandas as pd\n",
        "dt=pd.read_csv('/content/NEWS (1).csv',encoding=\"ISO-8859-1\")\n",
        "dt.head()"
      ],
      "execution_count": null,
      "outputs": [
        {
          "output_type": "execute_result",
          "data": {
            "text/html": [
              "<div>\n",
              "<style scoped>\n",
              "    .dataframe tbody tr th:only-of-type {\n",
              "        vertical-align: middle;\n",
              "    }\n",
              "\n",
              "    .dataframe tbody tr th {\n",
              "        vertical-align: top;\n",
              "    }\n",
              "\n",
              "    .dataframe thead th {\n",
              "        text-align: right;\n",
              "    }\n",
              "</style>\n",
              "<table border=\"1\" class=\"dataframe\">\n",
              "  <thead>\n",
              "    <tr style=\"text-align: right;\">\n",
              "      <th></th>\n",
              "      <th>Sentence</th>\n",
              "      <th>News_status</th>\n",
              "    </tr>\n",
              "  </thead>\n",
              "  <tbody>\n",
              "    <tr>\n",
              "      <th>0</th>\n",
              "      <td>Gen Haftar to drop military role ahead of Liby...</td>\n",
              "      <td>0</td>\n",
              "    </tr>\n",
              "    <tr>\n",
              "      <th>1</th>\n",
              "      <td>The edible insects coming to a supermarket nea...</td>\n",
              "      <td>1</td>\n",
              "    </tr>\n",
              "    <tr>\n",
              "      <th>2</th>\n",
              "      <td>Tunisia president extends parliament suspension</td>\n",
              "      <td>1</td>\n",
              "    </tr>\n",
              "    <tr>\n",
              "      <th>3</th>\n",
              "      <td>Cavers descend into Yemen's 'Well of Hell</td>\n",
              "      <td>0</td>\n",
              "    </tr>\n",
              "    <tr>\n",
              "      <th>4</th>\n",
              "      <td>Planning and Development Minister Asad Umar on...</td>\n",
              "      <td>1</td>\n",
              "    </tr>\n",
              "  </tbody>\n",
              "</table>\n",
              "</div>"
            ],
            "text/plain": [
              "                                            Sentence  News_status\n",
              "0  Gen Haftar to drop military role ahead of Liby...            0\n",
              "1  The edible insects coming to a supermarket nea...            1\n",
              "2    Tunisia president extends parliament suspension            1\n",
              "3          Cavers descend into Yemen's 'Well of Hell            0\n",
              "4  Planning and Development Minister Asad Umar on...            1"
            ]
          },
          "metadata": {},
          "execution_count": 26
        }
      ]
    },
    {
      "cell_type": "code",
      "metadata": {
        "colab": {
          "base_uri": "https://localhost:8080/",
          "height": 204
        },
        "id": "6k5fZ856_6r1",
        "outputId": "cda8a10d-71cc-496a-92dc-548d135ffdf5"
      },
      "source": [
        "import pandas as pd\n",
        "dt=pd.read_csv('/content/NEWS (1).csv',encoding=\"ISO-8859-1\")\n",
        "h=[]\n",
        "v=[]\n",
        "n=[]\n",
        "a=[]\n",
        "u=dt.shape[0]\n",
        "#l=len(dt)\n",
        "for i in range(u):\n",
        "  j=dt['Sentence'][i]\n",
        "  o=len(word_tokenize(j))\n",
        "  z=len_sp(j,'VB')\n",
        "  x=len_sp(j,'NN')\n",
        "  m=len_sp(j,'JJ')\n",
        "  h.append(o)\n",
        "  v.append(z)\n",
        "  n.append(x)\n",
        "  a.append(m)\n",
        "dt[\"word_count\"]=h\n",
        "dt[\"verb count\"]=v\n",
        "dt[\"noun count\"]=n\n",
        "dt[\"adj count\"]=a\n",
        "\n",
        "dt.head()\n",
        "dt.tail()\n"
      ],
      "execution_count": null,
      "outputs": [
        {
          "output_type": "execute_result",
          "data": {
            "text/html": [
              "<div>\n",
              "<style scoped>\n",
              "    .dataframe tbody tr th:only-of-type {\n",
              "        vertical-align: middle;\n",
              "    }\n",
              "\n",
              "    .dataframe tbody tr th {\n",
              "        vertical-align: top;\n",
              "    }\n",
              "\n",
              "    .dataframe thead th {\n",
              "        text-align: right;\n",
              "    }\n",
              "</style>\n",
              "<table border=\"1\" class=\"dataframe\">\n",
              "  <thead>\n",
              "    <tr style=\"text-align: right;\">\n",
              "      <th></th>\n",
              "      <th>Sentence</th>\n",
              "      <th>News_status</th>\n",
              "      <th>word_count</th>\n",
              "      <th>verb count</th>\n",
              "      <th>noun count</th>\n",
              "      <th>adj count</th>\n",
              "    </tr>\n",
              "  </thead>\n",
              "  <tbody>\n",
              "    <tr>\n",
              "      <th>37</th>\n",
              "      <td>French envoy to return as Macron, Biden try to...</td>\n",
              "      <td>1</td>\n",
              "      <td>12</td>\n",
              "      <td>2</td>\n",
              "      <td>3</td>\n",
              "      <td>1</td>\n",
              "    </tr>\n",
              "    <tr>\n",
              "      <th>38</th>\n",
              "      <td>Students protest outside SC Karachi Registry a...</td>\n",
              "      <td>0</td>\n",
              "      <td>10</td>\n",
              "      <td>0</td>\n",
              "      <td>1</td>\n",
              "      <td>1</td>\n",
              "    </tr>\n",
              "    <tr>\n",
              "      <th>39</th>\n",
              "      <td>Egyptian honours killed children using their toys</td>\n",
              "      <td>1</td>\n",
              "      <td>7</td>\n",
              "      <td>0</td>\n",
              "      <td>1</td>\n",
              "      <td>1</td>\n",
              "    </tr>\n",
              "    <tr>\n",
              "      <th>40</th>\n",
              "      <td>Pakistan 'used and binned' by England over can...</td>\n",
              "      <td>1</td>\n",
              "      <td>14</td>\n",
              "      <td>0</td>\n",
              "      <td>0</td>\n",
              "      <td>1</td>\n",
              "    </tr>\n",
              "    <tr>\n",
              "      <th>41</th>\n",
              "      <td>Amber Heard reads Pablo Neruda as Johnny Depp ...</td>\n",
              "      <td>0</td>\n",
              "      <td>12</td>\n",
              "      <td>0</td>\n",
              "      <td>1</td>\n",
              "      <td>0</td>\n",
              "    </tr>\n",
              "  </tbody>\n",
              "</table>\n",
              "</div>"
            ],
            "text/plain": [
              "                                             Sentence  ...  adj count\n",
              "37  French envoy to return as Macron, Biden try to...  ...          1\n",
              "38  Students protest outside SC Karachi Registry a...  ...          1\n",
              "39  Egyptian honours killed children using their toys  ...          1\n",
              "40  Pakistan 'used and binned' by England over can...  ...          1\n",
              "41  Amber Heard reads Pablo Neruda as Johnny Depp ...  ...          0\n",
              "\n",
              "[5 rows x 6 columns]"
            ]
          },
          "metadata": {},
          "execution_count": 27
        }
      ]
    },
    {
      "cell_type": "code",
      "metadata": {
        "colab": {
          "base_uri": "https://localhost:8080/",
          "height": 49
        },
        "id": "Hm8RgS3nnG0h",
        "outputId": "64aaca82-78fb-44f4-c6a5-ad2bd9a3bc09"
      },
      "source": [
        "dt.iloc[0:0,0:]"
      ],
      "execution_count": null,
      "outputs": [
        {
          "output_type": "execute_result",
          "data": {
            "text/html": [
              "<div>\n",
              "<style scoped>\n",
              "    .dataframe tbody tr th:only-of-type {\n",
              "        vertical-align: middle;\n",
              "    }\n",
              "\n",
              "    .dataframe tbody tr th {\n",
              "        vertical-align: top;\n",
              "    }\n",
              "\n",
              "    .dataframe thead th {\n",
              "        text-align: right;\n",
              "    }\n",
              "</style>\n",
              "<table border=\"1\" class=\"dataframe\">\n",
              "  <thead>\n",
              "    <tr style=\"text-align: right;\">\n",
              "      <th></th>\n",
              "      <th>Sentence</th>\n",
              "      <th>News_status</th>\n",
              "      <th>word_count</th>\n",
              "      <th>verb count</th>\n",
              "      <th>noun count</th>\n",
              "      <th>adj count</th>\n",
              "    </tr>\n",
              "  </thead>\n",
              "  <tbody>\n",
              "  </tbody>\n",
              "</table>\n",
              "</div>"
            ],
            "text/plain": [
              "Empty DataFrame\n",
              "Columns: [Sentence, News_status, word_count, verb count, noun count, adj count]\n",
              "Index: []"
            ]
          },
          "metadata": {},
          "execution_count": 28
        }
      ]
    },
    {
      "cell_type": "code",
      "metadata": {
        "id": "FW9b730Gldem"
      },
      "source": [
        "inputcol=['word_count','verb count',\t'noun count',\t'adj count']\n",
        "outputcol='News_status'\n",
        "x=dt[inputcol].values\n",
        "y=dt[outputcol].values\n"
      ],
      "execution_count": null,
      "outputs": []
    },
    {
      "cell_type": "code",
      "metadata": {
        "id": "FAeh7LdbZQlJ"
      },
      "source": [
        "import pandas as pd\n",
        "from sklearn.tree import DecisionTreeClassifier # Import Decision Tree Classifier\n",
        "from sklearn.model_selection import train_test_split # Import train_test_split function\n",
        "from sklearn import metrics\n",
        "\n",
        "from sklearn.model_selection import train_test_split\n",
        "x_train,x_test,y_train,y_test=train_test_split(x,y,test_size=0.3,random_state=3)"
      ],
      "execution_count": null,
      "outputs": []
    },
    {
      "cell_type": "code",
      "metadata": {
        "colab": {
          "base_uri": "https://localhost:8080/"
        },
        "id": "Egk2HFpukieZ",
        "outputId": "83c63eb3-8c8e-4fad-d1dd-8b2ffdece2ff"
      },
      "source": [
        "from sklearn.neighbors import KNeighborsClassifier\n",
        "knnmodel=KNeighborsClassifier(n_neighbors=3)\n",
        "print(knnmodel)\n",
        "knnmodel.fit(x_train,y_train)\n",
        "y_pred=knnmodel.predict(x_test)\n",
        "y_pred"
      ],
      "execution_count": null,
      "outputs": [
        {
          "output_type": "stream",
          "name": "stdout",
          "text": [
            "KNeighborsClassifier(algorithm='auto', leaf_size=30, metric='minkowski',\n",
            "                     metric_params=None, n_jobs=None, n_neighbors=3, p=2,\n",
            "                     weights='uniform')\n"
          ]
        },
        {
          "output_type": "execute_result",
          "data": {
            "text/plain": [
              "array([1, 1, 0, 1, 1, 1, 1, 0, 1, 0, 0, 1, 0])"
            ]
          },
          "metadata": {},
          "execution_count": 35
        }
      ]
    },
    {
      "cell_type": "code",
      "metadata": {
        "colab": {
          "base_uri": "https://localhost:8080/"
        },
        "id": "PDtIj-KllzHY",
        "outputId": "445d00f0-46fd-4143-b1d7-c74acf92f1dd"
      },
      "source": [
        "from  sklearn.metrics import accuracy_score\n",
        "accuracy=accuracy_score(y_test,y_pred)\n",
        "accuracy"
      ],
      "execution_count": null,
      "outputs": [
        {
          "output_type": "execute_result",
          "data": {
            "text/plain": [
              "0.46153846153846156"
            ]
          },
          "metadata": {},
          "execution_count": 36
        }
      ]
    }
  ]
}